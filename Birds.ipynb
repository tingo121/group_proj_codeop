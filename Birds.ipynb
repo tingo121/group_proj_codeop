{
 "cells": [
  {
   "cell_type": "code",
   "execution_count": 1,
   "id": "dc303645",
   "metadata": {},
   "outputs": [],
   "source": [
    "from bs4 import BeautifulSoup"
   ]
  },
  {
   "cell_type": "code",
   "execution_count": 2,
   "id": "c71e71f9",
   "metadata": {},
   "outputs": [],
   "source": [
    "with open('/Users/ting/Desktop/CodeOp/group_project_codeop/data/0036465-230224095556074/dataset/4fa7b334-ce0d-4e88-aaae-2e0c138d049e.xml', 'r') as f:\n",
    "    data = f.read()"
   ]
  },
  {
   "cell_type": "code",
   "execution_count": 3,
   "id": "8640afb6",
   "metadata": {},
   "outputs": [],
   "source": [
    "Bs_data = BeautifulSoup(data, \"xml\")"
   ]
  },
  {
   "cell_type": "code",
   "execution_count": 4,
   "id": "9dd0cf3e",
   "metadata": {},
   "outputs": [
    {
     "data": {
      "text/plain": [
       "<?xml version=\"1.0\" encoding=\"utf-8\"?>\n",
       "<eml:eml packageId=\"4fa7b334-ce0d-4e88-aaae-2e0c138d049e\" scope=\"system\" system=\"http://gbif.org\" xml:lang=\"en\" xmlns:eml=\"eml://ecoinformatics.org/eml-2.1.1\" xmlns:xsi=\"http://www.w3.org/2001/XMLSchema-instance\" xsi:schemaLocation=\"eml://ecoinformatics.org/eml-2.1.1 http://rs.gbif.org/schema/eml-gbif-profile/1.2/eml.xsd\">\n",
       "<dataset>\n",
       "<alternateIdentifier>10.15468/aomfnb</alternateIdentifier>\n",
       "<alternateIdentifier>4fa7b334-ce0d-4e88-aaae-2e0c138d049e</alternateIdentifier>\n",
       "<alternateIdentifier>CLOEODMETADATA.05192014.1</alternateIdentifier>\n",
       "<alternateIdentifier>43</alternateIdentifier>\n",
       "<title>EOD – eBird Observation Dataset</title>\n",
       "<creator>\n",
       "<individualName>\n",
       "<givenName>Thomas</givenName> <surName>Auer</surName>\n",
       "</individualName>\n",
       "<organizationName>Cornell Lab of Ornithology</organizationName> <address>\n",
       "<deliveryPoint>Center for Avian Population Studies, 159 Sapsucker Woods Road</deliveryPoint><city>Ithaca</city><administrativeArea>NY</administrativeArea><postalCode>14850</postalCode><country>UNITED_STATES</country> </address>\n",
       "</creator>\n",
       "<creator>\n",
       "<individualName>\n",
       "<givenName>Sara</givenName> <surName>Barker</surName>\n",
       "</individualName>\n",
       "<organizationName>Cornell Lab of Ornithology</organizationName> <address>\n",
       "<deliveryPoint>Center for Avian Population Studies, 159 Sapsucker Woods Road</deliveryPoint><city>Ithaca</city><administrativeArea>NY</administrativeArea><postalCode>14850</postalCode><country>UNITED_STATES</country> </address>\n",
       "</creator>\n",
       "<creator>\n",
       "<individualName>\n",
       "<givenName>Kathi</givenName> <surName>Borgmann</surName>\n",
       "</individualName>\n",
       "<organizationName>Cornell Lab of Ornithology</organizationName> <address>\n",
       "<deliveryPoint>Macaulay Library, 159 Sapsucker Woods Road</deliveryPoint><city>Ithaca</city><administrativeArea>NY</administrativeArea><postalCode>14850</postalCode><country>UNITED_STATES</country> </address>\n",
       "</creator>\n",
       "<creator>\n",
       "<individualName>\n",
       "<givenName>Mike</givenName> <surName>Charnoky</surName>\n",
       "</individualName>\n",
       "<organizationName>Cornell Lab of Ornithology</organizationName> <address>\n",
       "<deliveryPoint>Center for Avian Population Studies, 159 Sapsucker Woods Road</deliveryPoint><city>Ithaca</city><administrativeArea>NY</administrativeArea><postalCode>14850</postalCode><country>UNITED_STATES</country> </address>\n",
       "</creator>\n",
       "<creator>\n",
       "<individualName>\n",
       "<givenName>David</givenName> <surName>Childs</surName>\n",
       "</individualName>\n",
       "<organizationName>Cornell Lab of Ornithology</organizationName> <address>\n",
       "<deliveryPoint>Center for Avian Population Studies, 159 Sapsucker Woods Road</deliveryPoint><city>Ithaca</city><administrativeArea>NY</administrativeArea><postalCode>14850</postalCode><country>UNITED_STATES</country> </address>\n",
       "</creator>\n",
       "<creator>\n",
       "<individualName>\n",
       "<givenName>Jenna</givenName> <surName>Curtis</surName>\n",
       "</individualName>\n",
       "<organizationName>Cornell Lab of Ornithology</organizationName> <address>\n",
       "<deliveryPoint>Center for Avian Population Studies, 159 Sapsucker Woods Road</deliveryPoint><city>Ithaca</city><administrativeArea>NY</administrativeArea><postalCode>14850</postalCode><country>UNITED_STATES</country> </address>\n",
       "</creator>\n",
       "<creator>\n",
       "<individualName>\n",
       "<givenName>Ian</givenName> <surName>Davies</surName>\n",
       "</individualName>\n",
       "<organizationName>Cornell Lab of Ornithology</organizationName> <address>\n",
       "<deliveryPoint>Center for Avian Population Studies, 159 Sapsucker Woods Road</deliveryPoint><city>Ithaca</city><administrativeArea>NY</administrativeArea><postalCode>14850</postalCode><country>UNITED_STATES</country> </address>\n",
       "</creator>\n",
       "<creator>\n",
       "<individualName>\n",
       "<givenName>Iain</givenName> <surName>Downie</surName>\n",
       "</individualName>\n",
       "<organizationName>Cornell Lab of Ornithology</organizationName> <address>\n",
       "<deliveryPoint>Center for Avian Population Studies, 159 Sapsucker Woods Road</deliveryPoint><city>Ithaca</city><administrativeArea>NY</administrativeArea><postalCode>14850</postalCode><country>UNITED_STATES</country> </address>\n",
       "</creator>\n",
       "<creator>\n",
       "<individualName>\n",
       "<givenName>Daniel</givenName> <surName>Fink</surName>\n",
       "</individualName>\n",
       "<organizationName>Cornell Lab of Ornithology</organizationName> <address>\n",
       "<deliveryPoint>Center for Avian Population Studies, 159 Sapsucker Woods Road</deliveryPoint><city>Ithaca</city><administrativeArea>NY</administrativeArea><postalCode>14850</postalCode><country>UNITED_STATES</country> </address>\n",
       "</creator>\n",
       "<creator>\n",
       "<individualName>\n",
       "<givenName>Tom</givenName> <surName>Fredericks</surName>\n",
       "</individualName>\n",
       "<organizationName>Cornell Lab of Ornithology</organizationName> <address>\n",
       "<deliveryPoint>Center for Avian Population Studies, 159 Sapsucker Woods Road</deliveryPoint><city>Ithaca</city><administrativeArea>NY</administrativeArea><postalCode>14850</postalCode><country>UNITED_STATES</country> </address>\n",
       "</creator>\n",
       "<creator>\n",
       "<individualName>\n",
       "<givenName>Joshua</givenName> <surName>Ganger</surName>\n",
       "</individualName>\n",
       "<organizationName>Cornell Lab of Ornithology</organizationName> <address>\n",
       "<deliveryPoint>Center for Avian Population Studies, 159 Sapsucker Woods Road</deliveryPoint><city>Ithaca</city><administrativeArea>NY</administrativeArea><postalCode>14850</postalCode><country>UNITED_STATES</country> </address>\n",
       "</creator>\n",
       "<creator>\n",
       "<individualName>\n",
       "<givenName>Jeff</givenName> <surName>Gerbracht</surName>\n",
       "</individualName>\n",
       "<organizationName>Cornell Lab of Ornithology</organizationName><positionName>Lead Software Engineer</positionName> <address>\n",
       "<deliveryPoint>Center for Avian Population Studies, 159 Sapsucker Woods Road</deliveryPoint><city>Ithaca</city><administrativeArea>NY</administrativeArea><postalCode>14850</postalCode><country>UNITED_STATES</country> </address>\n",
       "<electronicMailAddress>ebird@cornell.edu</electronicMailAddress> </creator>\n",
       "<creator>\n",
       "<individualName>\n",
       "<givenName>Cullen</givenName> <surName>Hanks</surName>\n",
       "</individualName>\n",
       "<organizationName>Cornell Lab of Ornithology</organizationName> <address>\n",
       "<deliveryPoint>Macaulay Library, 159 Sapsucker Woods Road</deliveryPoint><city>Ithaca</city><administrativeArea>NY</administrativeArea><postalCode>14850</postalCode><country>UNITED_STATES</country> </address>\n",
       "</creator>\n",
       "<creator>\n",
       "<individualName>\n",
       "<givenName>Wesley</givenName> <surName>Hochachka</surName>\n",
       "</individualName>\n",
       "<organizationName>Cornell Lab of Ornithology</organizationName> <address>\n",
       "<deliveryPoint>Center for Avian Population Studies, 159 Sapsucker Woods Road</deliveryPoint><city>Ithaca</city><administrativeArea>NY</administrativeArea><postalCode>14850</postalCode><country>UNITED_STATES</country> </address>\n",
       "</creator>\n",
       "<creator>\n",
       "<individualName>\n",
       "<givenName>Marshall</givenName> <surName>Iliff</surName>\n",
       "</individualName>\n",
       "<organizationName>Cornell Lab of Ornithology</organizationName> <address>\n",
       "<deliveryPoint>Center for Avian Population Studies, 159 Sapsucker Woods Road</deliveryPoint><city>Ithaca</city><administrativeArea>NY</administrativeArea><postalCode>14850</postalCode><country>UNITED_STATES</country> </address>\n",
       "</creator>\n",
       "<creator>\n",
       "<individualName>\n",
       "<givenName>Jasdev</givenName> <surName>Imani</surName>\n",
       "</individualName>\n",
       "<organizationName>Cornell Lab of Ornithology</organizationName> <address>\n",
       "<deliveryPoint>Center for Avian Population Studies, 159 Sapsucker Woods Road</deliveryPoint><city>Ithaca</city><administrativeArea>NY</administrativeArea><postalCode>14850</postalCode><country>UNITED_STATES</country> </address>\n",
       "</creator>\n",
       "<creator>\n",
       "<individualName>\n",
       "<givenName>Alison</givenName> <surName>Johnston</surName>\n",
       "</individualName>\n",
       "<organizationName>Cornell Lab of Ornithology</organizationName> <address>\n",
       "<deliveryPoint>Center for Avian Population Studies, 159 Sapsucker Woods Road</deliveryPoint><city>Ithaca</city><administrativeArea>NY</administrativeArea><postalCode>14850</postalCode><country>UNITED_STATES</country> </address>\n",
       "</creator>\n",
       "<creator>\n",
       "<individualName>\n",
       "<givenName>Tim</givenName> <surName>Lenz</surName>\n",
       "</individualName>\n",
       "<organizationName>Cornell Lab of Ornithology</organizationName> <address>\n",
       "<deliveryPoint>Center for Avian Population Studies, 159 Sapsucker Woods Road</deliveryPoint><city>Ithaca</city><administrativeArea>NY</administrativeArea><postalCode>14850</postalCode><country>UNITED_STATES</country> </address>\n",
       "</creator>\n",
       "<creator>\n",
       "<individualName>\n",
       "<givenName>Tim</givenName> <surName>Levatich</surName>\n",
       "</individualName>\n",
       "<organizationName>Cornell Lab of Ornithology</organizationName> <address>\n",
       "<deliveryPoint>Center for Avian Population Studies, 159 Sapsucker Woods Road</deliveryPoint><city>Ithaca</city><administrativeArea>NY</administrativeArea><postalCode>14850</postalCode><country>UNITED_STATES</country> </address>\n",
       "</creator>\n",
       "<creator>\n",
       "<individualName>\n",
       "<givenName>Shawn</givenName> <surName>Ligocki</surName>\n",
       "</individualName>\n",
       "<organizationName>Cornell Lab of Ornithology</organizationName><positionName>Data Engineer</positionName> <address>\n",
       "<deliveryPoint>Center for Avian Population Studies, 159 Sapsucker Woods Road</deliveryPoint><city>Ithaca</city><administrativeArea>NY</administrativeArea><postalCode>14850</postalCode><country>UNITED_STATES</country> </address>\n",
       "<electronicMailAddress>ebird@cornell.edu</electronicMailAddress> </creator>\n",
       "<creator>\n",
       "<individualName>\n",
       "<givenName>M. Taylor</givenName> <surName>Long</surName>\n",
       "</individualName>\n",
       "<organizationName>Cornell Lab of Ornithology</organizationName> <address>\n",
       "<deliveryPoint>Center for Avian Population Studies, 159 Sapsucker Woods Road</deliveryPoint><city>Ithaca</city><administrativeArea>NY</administrativeArea><postalCode>14850</postalCode><country>UNITED_STATES</country> </address>\n",
       "</creator>\n",
       "<creator>\n",
       "<individualName>\n",
       "<givenName>William</givenName> <surName>Morris</surName>\n",
       "</individualName>\n",
       "<organizationName>Cornell Lab of Ornithology</organizationName> <address>\n",
       "<deliveryPoint>Center for Avian Population Studies, 159 Sapsucker Woods Road</deliveryPoint><city>Ithaca</city><administrativeArea>NY</administrativeArea><postalCode>14850</postalCode><country>UNITED_STATES</country> </address>\n",
       "</creator>\n",
       "<creator>\n",
       "<individualName>\n",
       "<givenName>Stephen</givenName> <surName>Morrow</surName>\n",
       "</individualName>\n",
       "<organizationName>Cornell Lab of Ornithology</organizationName> <address>\n",
       "<deliveryPoint>Center for Avian Population Studies, 159 Sapsucker Woods Road</deliveryPoint><city>Ithaca</city><administrativeArea>NY</administrativeArea><postalCode>14850</postalCode><country>UNITED_STATES</country> </address>\n",
       "</creator>\n",
       "<creator>\n",
       "<individualName>\n",
       "<givenName>Lauren</givenName> <surName>Oldham</surName>\n",
       "</individualName>\n",
       "<organizationName>Cornell Lab of Ornithology</organizationName> <address>\n",
       "<deliveryPoint>Center for Avian Population Studies, 159 Sapsucker Woods Road</deliveryPoint><city>Ithaca</city><administrativeArea>NY</administrativeArea><postalCode>14850</postalCode><country>UNITED_STATES</country> </address>\n",
       "</creator>\n",
       "<creator>\n",
       "<individualName>\n",
       "<givenName>Francisco</givenName> <surName>Padilla Obregon</surName>\n",
       "</individualName>\n",
       "<organizationName>Cornell Lab of Ornithology</organizationName> <address>\n",
       "<deliveryPoint>Center for Avian Population Studies, 159 Sapsucker Woods Road</deliveryPoint><city>Ithaca</city><administrativeArea>NY</administrativeArea><postalCode>14850</postalCode><country>UNITED_STATES</country> </address>\n",
       "</creator>\n",
       "<creator>\n",
       "<individualName>\n",
       "<givenName>Orin</givenName> <surName>Robinson</surName>\n",
       "</individualName>\n",
       "<organizationName>Cornell Lab of Ornithology</organizationName> <address>\n",
       "<deliveryPoint>Center for Avian Population Studies, 159 Sapsucker Woods Road</deliveryPoint><city>Ithaca</city><administrativeArea>NY</administrativeArea><postalCode>14850</postalCode><country>UNITED_STATES</country> </address>\n",
       "</creator>\n",
       "<creator>\n",
       "<individualName>\n",
       "<givenName>Amanda</givenName> <surName>Rodewald</surName>\n",
       "</individualName>\n",
       "<organizationName>Cornell Lab of Ornithology</organizationName> <address>\n",
       "<deliveryPoint>Center for Avian Population Studies, 159 Sapsucker Woods Road</deliveryPoint><city>Ithaca</city><administrativeArea>NY</administrativeArea><postalCode>14850</postalCode><country>UNITED_STATES</country> </address>\n",
       "</creator>\n",
       "<creator>\n",
       "<individualName>\n",
       "<givenName>Viviana</givenName> <surName>Ruiz-Gutierrez</surName>\n",
       "</individualName>\n",
       "<organizationName>Cornell Lab of Ornithology</organizationName> <address>\n",
       "<deliveryPoint>Center for Avian Population Studies, 159 Sapsucker Woods Road</deliveryPoint><city>Ithaca</city><administrativeArea>NY</administrativeArea><postalCode>14850</postalCode><country>UNITED_STATES</country> </address>\n",
       "</creator>\n",
       "<creator>\n",
       "<individualName>\n",
       "<givenName>Matt</givenName> <surName>Strimas-Mackey</surName>\n",
       "</individualName>\n",
       "<organizationName>Cornell Lab of Ornithology</organizationName> <address>\n",
       "<deliveryPoint>Center for Avian Population Studies, 159 Sapsucker Woods Road</deliveryPoint><city>Ithaca</city><administrativeArea>NY</administrativeArea><postalCode>14850</postalCode><country>UNITED_STATES</country> </address>\n",
       "</creator>\n",
       "<creator>\n",
       "<individualName>\n",
       "<givenName>Heather</givenName> <surName>Wolf</surName>\n",
       "</individualName>\n",
       "<organizationName>Cornell Lab of Ornithology</organizationName> <address>\n",
       "<deliveryPoint>Center for Avian Population Studies, 159 Sapsucker Woods Road</deliveryPoint><city>Ithaca</city><administrativeArea>NY</administrativeArea><postalCode>14850</postalCode><country>UNITED_STATES</country> </address>\n",
       "</creator>\n",
       "<creator>\n",
       "<individualName>\n",
       "<givenName>Christopher</givenName> <surName>Wood</surName>\n",
       "</individualName>\n",
       "<organizationName>Cornell Lab of Ornithology</organizationName><positionName>Managing Director</positionName> <address>\n",
       "<deliveryPoint>Center for Avian Population Studies, 159 Sapsucker Woods Road</deliveryPoint><city>Ithaca</city><administrativeArea>NY</administrativeArea><postalCode>14850</postalCode><country>UNITED_STATES</country> </address>\n",
       "<electronicMailAddress>ebird@cornell.edu</electronicMailAddress> </creator>\n",
       "<pubDate>\n",
       "                2022-03-02\n",
       "            </pubDate>\n",
       "<language>ENGLISH</language>\n",
       "<abstract>\n",
       "<para>eBird is a collective enterprise that takes a novel approach to citizen science by developing cooperative partnerships among experts in a wide range of fields: population ecologists, conservation biologists, quantitative ecologists, statisticians, computer scientists, GIS and informatics specialists, application developers, and data administrators. Managed by the Cornell Lab of Ornithology eBird’s goal is to increase data quantity through participant recruitment and engagement globally, but also to quantify and control for data quality issues such as observer variability, imperfect detection of species, and both spatial and temporal bias in data collection. eBird data are openly available and used by a broad spectrum of students, teachers, scientists, NGOs, government agencies, land managers, and policy makers. The result is that eBird has become a major source of biodiversity data, increasing our knowledge of the dynamics of species distributions, and having a direct impact on the conservation of birds and their habitats.</para>\n",
       "</abstract>\n",
       "<keywordSet>\n",
       "<keyword>Occurrence</keyword>\n",
       "<keywordThesaurus>GBIF Dataset Type Vocabulary: http://rs.gbif.org/vocabulary/gbif/dataset_type.xml</keywordThesaurus>\n",
       "</keywordSet>\n",
       "<keywordSet>\n",
       "<keyword>Observation</keyword>\n",
       "<keywordThesaurus>GBIF Dataset Subtype Vocabulary: http://rs.gbif.org/vocabulary/gbif/dataset_subtype.xml</keywordThesaurus>\n",
       "</keywordSet>\n",
       "<additionalInfo>\n",
       "<para>Data released annually.  These data are made available through the Cornell Lab of Ornithology at Cornell University. No warranty either expressed or implied is made regarding the accuracy of these data.</para>\n",
       "</additionalInfo>\n",
       "<intellectualRights>\n",
       "<para>This work is licensed under a <ulink url=\"http://creativecommons.org/licenses/by/4.0/legalcode\"><citetitle>Creative Commons Attribution (CC-BY) 4.0 License</citetitle></ulink>.</para>\n",
       "</intellectualRights>\n",
       "<distribution scope=\"document\">\n",
       "<online>\n",
       "<url function=\"information\">https://ebird.org/</url>\n",
       "</online>\n",
       "</distribution>\n",
       "<coverage>\n",
       "<geographicCoverage>\n",
       "<geographicDescription>Worldwide</geographicDescription>\n",
       "<boundingCoordinates>\n",
       "<westBoundingCoordinate>-180</westBoundingCoordinate>\n",
       "<eastBoundingCoordinate>180</eastBoundingCoordinate>\n",
       "<northBoundingCoordinate>90</northBoundingCoordinate>\n",
       "<southBoundingCoordinate>-90</southBoundingCoordinate>\n",
       "</boundingCoordinates>\n",
       "</geographicCoverage>\n",
       "<temporalCoverage>\n",
       "<rangeOfDates>\n",
       "<beginDate>\n",
       "<calendarDate>                1800-01-01\n",
       "</calendarDate>\n",
       "</beginDate>\n",
       "<endDate>\n",
       "<calendarDate>                2021-12-31\n",
       "</calendarDate>\n",
       "</endDate>\n",
       "</rangeOfDates>\n",
       "</temporalCoverage>\n",
       "<taxonomicCoverage>\n",
       "<generalTaxonomicCoverage>Taxonomic authority: The Clements Checklist of Birds, Sixth Edition, August 2021 revision</generalTaxonomicCoverage>\n",
       "<taxonomicClassification>\n",
       "<taxonRankName>Class</taxonRankName>\n",
       "<taxonRankValue>Aves</taxonRankValue>\n",
       "<commonName>birds</commonName>\n",
       "</taxonomicClassification>\n",
       "</taxonomicCoverage>\n",
       "</coverage>\n",
       "<contact>\n",
       "<individualName>\n",
       "<givenName>Jeff</givenName> <surName>Gerbracht</surName>\n",
       "</individualName>\n",
       "<organizationName>Cornell Lab of Ornithology</organizationName><positionName>Lead Software Engineer</positionName> <address>\n",
       "<deliveryPoint>Center for Avian Population Studies, 159 Sapsucker Woods Road</deliveryPoint><city>Ithaca</city><administrativeArea>NY</administrativeArea><postalCode>14850</postalCode><country>UNITED_STATES</country> </address>\n",
       "<electronicMailAddress>ebird@cornell.edu</electronicMailAddress> </contact>\n",
       "</dataset>\n",
       "<additionalMetadata>\n",
       "<metadata>\n",
       "<gbif>\n",
       "<dateStamp>2023-03-04T20:30:25Z</dateStamp>\n",
       "<citation>Auer T, Barker S, Borgmann K, Charnoky M, Childs D, Curtis J, Davies I, Downie I, Fink D, Fredericks T, Ganger J, Gerbracht J, Hanks C, Hochachka W, Iliff M, Imani J, Johnston A, Lenz T, Levatich T, Ligocki S, Long M T, Morris W, Morrow S, Oldham L, Padilla Obregon F, Robinson O, Rodewald A, Ruiz-Gutierrez V, Strimas-Mackey M, Wolf H, Wood C (2022). EOD – eBird Observation Dataset. Cornell Lab of Ornithology. Occurrence dataset https://doi.org/10.15468/aomfnb accessed via GBIF.org on 2023-03-04.</citation>\n",
       "</gbif>\n",
       "</metadata>\n",
       "</additionalMetadata>\n",
       "</eml:eml>"
      ]
     },
     "execution_count": 4,
     "metadata": {},
     "output_type": "execute_result"
    }
   ],
   "source": [
    "Bs_data"
   ]
  },
  {
   "cell_type": "code",
   "execution_count": 5,
   "id": "6f919e12",
   "metadata": {},
   "outputs": [],
   "source": [
    "import pandas as pd\n",
    "bird_data = pd.read_csv('/Users/ting/Downloads/0037182-230224095556074/occurrence.csv', sep = '\\t')"
   ]
  },
  {
   "cell_type": "code",
   "execution_count": 6,
   "id": "24045116",
   "metadata": {},
   "outputs": [
    {
     "data": {
      "text/html": [
       "<div>\n",
       "<style scoped>\n",
       "    .dataframe tbody tr th:only-of-type {\n",
       "        vertical-align: middle;\n",
       "    }\n",
       "\n",
       "    .dataframe tbody tr th {\n",
       "        vertical-align: top;\n",
       "    }\n",
       "\n",
       "    .dataframe thead th {\n",
       "        text-align: right;\n",
       "    }\n",
       "</style>\n",
       "<table border=\"1\" class=\"dataframe\">\n",
       "  <thead>\n",
       "    <tr style=\"text-align: right;\">\n",
       "      <th></th>\n",
       "      <th>gbifID</th>\n",
       "      <th>abstract</th>\n",
       "      <th>accessRights</th>\n",
       "      <th>accrualMethod</th>\n",
       "      <th>accrualPeriodicity</th>\n",
       "      <th>accrualPolicy</th>\n",
       "      <th>alternative</th>\n",
       "      <th>audience</th>\n",
       "      <th>available</th>\n",
       "      <th>bibliographicCitation</th>\n",
       "      <th>...</th>\n",
       "      <th>level0Gid</th>\n",
       "      <th>level0Name</th>\n",
       "      <th>level1Gid</th>\n",
       "      <th>level1Name</th>\n",
       "      <th>level2Gid</th>\n",
       "      <th>level2Name</th>\n",
       "      <th>level3Gid</th>\n",
       "      <th>level3Name</th>\n",
       "      <th>iucnRedListCategory</th>\n",
       "      <th>eventType</th>\n",
       "    </tr>\n",
       "  </thead>\n",
       "  <tbody>\n",
       "    <tr>\n",
       "      <th>0</th>\n",
       "      <td>979787701</td>\n",
       "      <td>NaN</td>\n",
       "      <td>NaN</td>\n",
       "      <td>NaN</td>\n",
       "      <td>NaN</td>\n",
       "      <td>NaN</td>\n",
       "      <td>NaN</td>\n",
       "      <td>NaN</td>\n",
       "      <td>NaN</td>\n",
       "      <td>NaN</td>\n",
       "      <td>...</td>\n",
       "      <td>GBR</td>\n",
       "      <td>United Kingdom</td>\n",
       "      <td>GBR.3_1</td>\n",
       "      <td>Scotland</td>\n",
       "      <td>GBR.3.17_1</td>\n",
       "      <td>Highland</td>\n",
       "      <td>GBR.3.17.1_1</td>\n",
       "      <td>Highland</td>\n",
       "      <td>LC</td>\n",
       "      <td>NaN</td>\n",
       "    </tr>\n",
       "    <tr>\n",
       "      <th>1</th>\n",
       "      <td>978552557</td>\n",
       "      <td>NaN</td>\n",
       "      <td>NaN</td>\n",
       "      <td>NaN</td>\n",
       "      <td>NaN</td>\n",
       "      <td>NaN</td>\n",
       "      <td>NaN</td>\n",
       "      <td>NaN</td>\n",
       "      <td>NaN</td>\n",
       "      <td>NaN</td>\n",
       "      <td>...</td>\n",
       "      <td>GBR</td>\n",
       "      <td>United Kingdom</td>\n",
       "      <td>GBR.3_1</td>\n",
       "      <td>Scotland</td>\n",
       "      <td>GBR.3.17_1</td>\n",
       "      <td>Highland</td>\n",
       "      <td>GBR.3.17.1_1</td>\n",
       "      <td>Highland</td>\n",
       "      <td>LC</td>\n",
       "      <td>NaN</td>\n",
       "    </tr>\n",
       "    <tr>\n",
       "      <th>2</th>\n",
       "      <td>977779462</td>\n",
       "      <td>NaN</td>\n",
       "      <td>NaN</td>\n",
       "      <td>NaN</td>\n",
       "      <td>NaN</td>\n",
       "      <td>NaN</td>\n",
       "      <td>NaN</td>\n",
       "      <td>NaN</td>\n",
       "      <td>NaN</td>\n",
       "      <td>NaN</td>\n",
       "      <td>...</td>\n",
       "      <td>GBR</td>\n",
       "      <td>United Kingdom</td>\n",
       "      <td>GBR.3_1</td>\n",
       "      <td>Scotland</td>\n",
       "      <td>GBR.3.17_1</td>\n",
       "      <td>Highland</td>\n",
       "      <td>GBR.3.17.1_1</td>\n",
       "      <td>Highland</td>\n",
       "      <td>LC</td>\n",
       "      <td>NaN</td>\n",
       "    </tr>\n",
       "    <tr>\n",
       "      <th>3</th>\n",
       "      <td>977697135</td>\n",
       "      <td>NaN</td>\n",
       "      <td>NaN</td>\n",
       "      <td>NaN</td>\n",
       "      <td>NaN</td>\n",
       "      <td>NaN</td>\n",
       "      <td>NaN</td>\n",
       "      <td>NaN</td>\n",
       "      <td>NaN</td>\n",
       "      <td>NaN</td>\n",
       "      <td>...</td>\n",
       "      <td>GBR</td>\n",
       "      <td>United Kingdom</td>\n",
       "      <td>GBR.3_1</td>\n",
       "      <td>Scotland</td>\n",
       "      <td>GBR.3.17_1</td>\n",
       "      <td>Highland</td>\n",
       "      <td>GBR.3.17.1_1</td>\n",
       "      <td>Highland</td>\n",
       "      <td>LC</td>\n",
       "      <td>NaN</td>\n",
       "    </tr>\n",
       "    <tr>\n",
       "      <th>4</th>\n",
       "      <td>977694425</td>\n",
       "      <td>NaN</td>\n",
       "      <td>NaN</td>\n",
       "      <td>NaN</td>\n",
       "      <td>NaN</td>\n",
       "      <td>NaN</td>\n",
       "      <td>NaN</td>\n",
       "      <td>NaN</td>\n",
       "      <td>NaN</td>\n",
       "      <td>NaN</td>\n",
       "      <td>...</td>\n",
       "      <td>GBR</td>\n",
       "      <td>United Kingdom</td>\n",
       "      <td>GBR.3_1</td>\n",
       "      <td>Scotland</td>\n",
       "      <td>GBR.3.17_1</td>\n",
       "      <td>Highland</td>\n",
       "      <td>GBR.3.17.1_1</td>\n",
       "      <td>Highland</td>\n",
       "      <td>LC</td>\n",
       "      <td>NaN</td>\n",
       "    </tr>\n",
       "    <tr>\n",
       "      <th>...</th>\n",
       "      <td>...</td>\n",
       "      <td>...</td>\n",
       "      <td>...</td>\n",
       "      <td>...</td>\n",
       "      <td>...</td>\n",
       "      <td>...</td>\n",
       "      <td>...</td>\n",
       "      <td>...</td>\n",
       "      <td>...</td>\n",
       "      <td>...</td>\n",
       "      <td>...</td>\n",
       "      <td>...</td>\n",
       "      <td>...</td>\n",
       "      <td>...</td>\n",
       "      <td>...</td>\n",
       "      <td>...</td>\n",
       "      <td>...</td>\n",
       "      <td>...</td>\n",
       "      <td>...</td>\n",
       "      <td>...</td>\n",
       "      <td>...</td>\n",
       "    </tr>\n",
       "    <tr>\n",
       "      <th>809</th>\n",
       "      <td>1175445609</td>\n",
       "      <td>NaN</td>\n",
       "      <td>NaN</td>\n",
       "      <td>NaN</td>\n",
       "      <td>NaN</td>\n",
       "      <td>NaN</td>\n",
       "      <td>NaN</td>\n",
       "      <td>NaN</td>\n",
       "      <td>NaN</td>\n",
       "      <td>NaN</td>\n",
       "      <td>...</td>\n",
       "      <td>GBR</td>\n",
       "      <td>United Kingdom</td>\n",
       "      <td>GBR.3_1</td>\n",
       "      <td>Scotland</td>\n",
       "      <td>GBR.3.17_1</td>\n",
       "      <td>Highland</td>\n",
       "      <td>GBR.3.17.1_1</td>\n",
       "      <td>Highland</td>\n",
       "      <td>LC</td>\n",
       "      <td>NaN</td>\n",
       "    </tr>\n",
       "    <tr>\n",
       "      <th>810</th>\n",
       "      <td>1173026325</td>\n",
       "      <td>NaN</td>\n",
       "      <td>NaN</td>\n",
       "      <td>NaN</td>\n",
       "      <td>NaN</td>\n",
       "      <td>NaN</td>\n",
       "      <td>NaN</td>\n",
       "      <td>NaN</td>\n",
       "      <td>NaN</td>\n",
       "      <td>NaN</td>\n",
       "      <td>...</td>\n",
       "      <td>GBR</td>\n",
       "      <td>United Kingdom</td>\n",
       "      <td>GBR.3_1</td>\n",
       "      <td>Scotland</td>\n",
       "      <td>GBR.3.17_1</td>\n",
       "      <td>Highland</td>\n",
       "      <td>GBR.3.17.1_1</td>\n",
       "      <td>Highland</td>\n",
       "      <td>LC</td>\n",
       "      <td>NaN</td>\n",
       "    </tr>\n",
       "    <tr>\n",
       "      <th>811</th>\n",
       "      <td>1171895135</td>\n",
       "      <td>NaN</td>\n",
       "      <td>NaN</td>\n",
       "      <td>NaN</td>\n",
       "      <td>NaN</td>\n",
       "      <td>NaN</td>\n",
       "      <td>NaN</td>\n",
       "      <td>NaN</td>\n",
       "      <td>NaN</td>\n",
       "      <td>NaN</td>\n",
       "      <td>...</td>\n",
       "      <td>GBR</td>\n",
       "      <td>United Kingdom</td>\n",
       "      <td>GBR.3_1</td>\n",
       "      <td>Scotland</td>\n",
       "      <td>GBR.3.17_1</td>\n",
       "      <td>Highland</td>\n",
       "      <td>GBR.3.17.1_1</td>\n",
       "      <td>Highland</td>\n",
       "      <td>LC</td>\n",
       "      <td>NaN</td>\n",
       "    </tr>\n",
       "    <tr>\n",
       "      <th>812</th>\n",
       "      <td>1159301170</td>\n",
       "      <td>NaN</td>\n",
       "      <td>NaN</td>\n",
       "      <td>NaN</td>\n",
       "      <td>NaN</td>\n",
       "      <td>NaN</td>\n",
       "      <td>NaN</td>\n",
       "      <td>NaN</td>\n",
       "      <td>NaN</td>\n",
       "      <td>NaN</td>\n",
       "      <td>...</td>\n",
       "      <td>GBR</td>\n",
       "      <td>United Kingdom</td>\n",
       "      <td>GBR.3_1</td>\n",
       "      <td>Scotland</td>\n",
       "      <td>GBR.3.17_1</td>\n",
       "      <td>Highland</td>\n",
       "      <td>GBR.3.17.1_1</td>\n",
       "      <td>Highland</td>\n",
       "      <td>LC</td>\n",
       "      <td>NaN</td>\n",
       "    </tr>\n",
       "    <tr>\n",
       "      <th>813</th>\n",
       "      <td>1153900734</td>\n",
       "      <td>NaN</td>\n",
       "      <td>NaN</td>\n",
       "      <td>NaN</td>\n",
       "      <td>NaN</td>\n",
       "      <td>NaN</td>\n",
       "      <td>NaN</td>\n",
       "      <td>NaN</td>\n",
       "      <td>NaN</td>\n",
       "      <td>NaN</td>\n",
       "      <td>...</td>\n",
       "      <td>GBR</td>\n",
       "      <td>United Kingdom</td>\n",
       "      <td>GBR.3_1</td>\n",
       "      <td>Scotland</td>\n",
       "      <td>GBR.3.2_1</td>\n",
       "      <td>Aberdeenshire</td>\n",
       "      <td>GBR.3.2.1_1</td>\n",
       "      <td>Aberdeenshire</td>\n",
       "      <td>LC</td>\n",
       "      <td>NaN</td>\n",
       "    </tr>\n",
       "  </tbody>\n",
       "</table>\n",
       "<p>814 rows × 259 columns</p>\n",
       "</div>"
      ],
      "text/plain": [
       "         gbifID  abstract  accessRights  accrualMethod  accrualPeriodicity  \\\n",
       "0     979787701       NaN           NaN            NaN                 NaN   \n",
       "1     978552557       NaN           NaN            NaN                 NaN   \n",
       "2     977779462       NaN           NaN            NaN                 NaN   \n",
       "3     977697135       NaN           NaN            NaN                 NaN   \n",
       "4     977694425       NaN           NaN            NaN                 NaN   \n",
       "..          ...       ...           ...            ...                 ...   \n",
       "809  1175445609       NaN           NaN            NaN                 NaN   \n",
       "810  1173026325       NaN           NaN            NaN                 NaN   \n",
       "811  1171895135       NaN           NaN            NaN                 NaN   \n",
       "812  1159301170       NaN           NaN            NaN                 NaN   \n",
       "813  1153900734       NaN           NaN            NaN                 NaN   \n",
       "\n",
       "     accrualPolicy  alternative  audience  available  bibliographicCitation  \\\n",
       "0              NaN          NaN       NaN        NaN                    NaN   \n",
       "1              NaN          NaN       NaN        NaN                    NaN   \n",
       "2              NaN          NaN       NaN        NaN                    NaN   \n",
       "3              NaN          NaN       NaN        NaN                    NaN   \n",
       "4              NaN          NaN       NaN        NaN                    NaN   \n",
       "..             ...          ...       ...        ...                    ...   \n",
       "809            NaN          NaN       NaN        NaN                    NaN   \n",
       "810            NaN          NaN       NaN        NaN                    NaN   \n",
       "811            NaN          NaN       NaN        NaN                    NaN   \n",
       "812            NaN          NaN       NaN        NaN                    NaN   \n",
       "813            NaN          NaN       NaN        NaN                    NaN   \n",
       "\n",
       "     ...  level0Gid      level0Name  level1Gid  level1Name   level2Gid  \\\n",
       "0    ...        GBR  United Kingdom    GBR.3_1    Scotland  GBR.3.17_1   \n",
       "1    ...        GBR  United Kingdom    GBR.3_1    Scotland  GBR.3.17_1   \n",
       "2    ...        GBR  United Kingdom    GBR.3_1    Scotland  GBR.3.17_1   \n",
       "3    ...        GBR  United Kingdom    GBR.3_1    Scotland  GBR.3.17_1   \n",
       "4    ...        GBR  United Kingdom    GBR.3_1    Scotland  GBR.3.17_1   \n",
       "..   ...        ...             ...        ...         ...         ...   \n",
       "809  ...        GBR  United Kingdom    GBR.3_1    Scotland  GBR.3.17_1   \n",
       "810  ...        GBR  United Kingdom    GBR.3_1    Scotland  GBR.3.17_1   \n",
       "811  ...        GBR  United Kingdom    GBR.3_1    Scotland  GBR.3.17_1   \n",
       "812  ...        GBR  United Kingdom    GBR.3_1    Scotland  GBR.3.17_1   \n",
       "813  ...        GBR  United Kingdom    GBR.3_1    Scotland   GBR.3.2_1   \n",
       "\n",
       "        level2Name     level3Gid     level3Name  iucnRedListCategory  \\\n",
       "0         Highland  GBR.3.17.1_1       Highland                   LC   \n",
       "1         Highland  GBR.3.17.1_1       Highland                   LC   \n",
       "2         Highland  GBR.3.17.1_1       Highland                   LC   \n",
       "3         Highland  GBR.3.17.1_1       Highland                   LC   \n",
       "4         Highland  GBR.3.17.1_1       Highland                   LC   \n",
       "..             ...           ...            ...                  ...   \n",
       "809       Highland  GBR.3.17.1_1       Highland                   LC   \n",
       "810       Highland  GBR.3.17.1_1       Highland                   LC   \n",
       "811       Highland  GBR.3.17.1_1       Highland                   LC   \n",
       "812       Highland  GBR.3.17.1_1       Highland                   LC   \n",
       "813  Aberdeenshire   GBR.3.2.1_1  Aberdeenshire                   LC   \n",
       "\n",
       "     eventType  \n",
       "0          NaN  \n",
       "1          NaN  \n",
       "2          NaN  \n",
       "3          NaN  \n",
       "4          NaN  \n",
       "..         ...  \n",
       "809        NaN  \n",
       "810        NaN  \n",
       "811        NaN  \n",
       "812        NaN  \n",
       "813        NaN  \n",
       "\n",
       "[814 rows x 259 columns]"
      ]
     },
     "execution_count": 6,
     "metadata": {},
     "output_type": "execute_result"
    }
   ],
   "source": [
    "bird_data"
   ]
  },
  {
   "cell_type": "code",
   "execution_count": 7,
   "id": "4b8cfa45",
   "metadata": {},
   "outputs": [],
   "source": [
    "#remove all columns where all elements are NaN\n",
    "bird_data = bird_data.dropna(axis = 1, how = 'all')"
   ]
  },
  {
   "cell_type": "code",
   "execution_count": 8,
   "id": "febd38ea",
   "metadata": {},
   "outputs": [
    {
     "data": {
      "text/html": [
       "<div>\n",
       "<style scoped>\n",
       "    .dataframe tbody tr th:only-of-type {\n",
       "        vertical-align: middle;\n",
       "    }\n",
       "\n",
       "    .dataframe tbody tr th {\n",
       "        vertical-align: top;\n",
       "    }\n",
       "\n",
       "    .dataframe thead th {\n",
       "        text-align: right;\n",
       "    }\n",
       "</style>\n",
       "<table border=\"1\" class=\"dataframe\">\n",
       "  <thead>\n",
       "    <tr style=\"text-align: right;\">\n",
       "      <th></th>\n",
       "      <th>gbifID</th>\n",
       "      <th>identifier</th>\n",
       "      <th>license</th>\n",
       "      <th>institutionCode</th>\n",
       "      <th>collectionCode</th>\n",
       "      <th>basisOfRecord</th>\n",
       "      <th>occurrenceID</th>\n",
       "      <th>catalogNumber</th>\n",
       "      <th>recordedBy</th>\n",
       "      <th>individualCount</th>\n",
       "      <th>...</th>\n",
       "      <th>repatriated</th>\n",
       "      <th>level0Gid</th>\n",
       "      <th>level0Name</th>\n",
       "      <th>level1Gid</th>\n",
       "      <th>level1Name</th>\n",
       "      <th>level2Gid</th>\n",
       "      <th>level2Name</th>\n",
       "      <th>level3Gid</th>\n",
       "      <th>level3Name</th>\n",
       "      <th>iucnRedListCategory</th>\n",
       "    </tr>\n",
       "  </thead>\n",
       "  <tbody>\n",
       "    <tr>\n",
       "      <th>0</th>\n",
       "      <td>979787701</td>\n",
       "      <td>OBS241064759</td>\n",
       "      <td>CC_BY_4_0</td>\n",
       "      <td>CLO</td>\n",
       "      <td>EBIRD</td>\n",
       "      <td>HUMAN_OBSERVATION</td>\n",
       "      <td>URN:catalog:CLO:EBIRD:OBS241064759</td>\n",
       "      <td>OBS241064759</td>\n",
       "      <td>obsr206932</td>\n",
       "      <td>2.0</td>\n",
       "      <td>...</td>\n",
       "      <td>False</td>\n",
       "      <td>GBR</td>\n",
       "      <td>United Kingdom</td>\n",
       "      <td>GBR.3_1</td>\n",
       "      <td>Scotland</td>\n",
       "      <td>GBR.3.17_1</td>\n",
       "      <td>Highland</td>\n",
       "      <td>GBR.3.17.1_1</td>\n",
       "      <td>Highland</td>\n",
       "      <td>LC</td>\n",
       "    </tr>\n",
       "    <tr>\n",
       "      <th>1</th>\n",
       "      <td>978552557</td>\n",
       "      <td>OBS233681617</td>\n",
       "      <td>CC_BY_4_0</td>\n",
       "      <td>CLO</td>\n",
       "      <td>EBIRD</td>\n",
       "      <td>HUMAN_OBSERVATION</td>\n",
       "      <td>URN:catalog:CLO:EBIRD:OBS233681617</td>\n",
       "      <td>OBS233681617</td>\n",
       "      <td>obsr113347</td>\n",
       "      <td>4.0</td>\n",
       "      <td>...</td>\n",
       "      <td>False</td>\n",
       "      <td>GBR</td>\n",
       "      <td>United Kingdom</td>\n",
       "      <td>GBR.3_1</td>\n",
       "      <td>Scotland</td>\n",
       "      <td>GBR.3.17_1</td>\n",
       "      <td>Highland</td>\n",
       "      <td>GBR.3.17.1_1</td>\n",
       "      <td>Highland</td>\n",
       "      <td>LC</td>\n",
       "    </tr>\n",
       "    <tr>\n",
       "      <th>2</th>\n",
       "      <td>977779462</td>\n",
       "      <td>OBS227814916</td>\n",
       "      <td>CC_BY_4_0</td>\n",
       "      <td>CLO</td>\n",
       "      <td>EBIRD</td>\n",
       "      <td>HUMAN_OBSERVATION</td>\n",
       "      <td>URN:catalog:CLO:EBIRD:OBS227814916</td>\n",
       "      <td>OBS227814916</td>\n",
       "      <td>obsr221472</td>\n",
       "      <td>NaN</td>\n",
       "      <td>...</td>\n",
       "      <td>False</td>\n",
       "      <td>GBR</td>\n",
       "      <td>United Kingdom</td>\n",
       "      <td>GBR.3_1</td>\n",
       "      <td>Scotland</td>\n",
       "      <td>GBR.3.17_1</td>\n",
       "      <td>Highland</td>\n",
       "      <td>GBR.3.17.1_1</td>\n",
       "      <td>Highland</td>\n",
       "      <td>LC</td>\n",
       "    </tr>\n",
       "    <tr>\n",
       "      <th>3</th>\n",
       "      <td>977697135</td>\n",
       "      <td>OBS227271458</td>\n",
       "      <td>CC_BY_4_0</td>\n",
       "      <td>CLO</td>\n",
       "      <td>EBIRD</td>\n",
       "      <td>HUMAN_OBSERVATION</td>\n",
       "      <td>URN:catalog:CLO:EBIRD:OBS227271458</td>\n",
       "      <td>OBS227271458</td>\n",
       "      <td>obsr197067</td>\n",
       "      <td>NaN</td>\n",
       "      <td>...</td>\n",
       "      <td>False</td>\n",
       "      <td>GBR</td>\n",
       "      <td>United Kingdom</td>\n",
       "      <td>GBR.3_1</td>\n",
       "      <td>Scotland</td>\n",
       "      <td>GBR.3.17_1</td>\n",
       "      <td>Highland</td>\n",
       "      <td>GBR.3.17.1_1</td>\n",
       "      <td>Highland</td>\n",
       "      <td>LC</td>\n",
       "    </tr>\n",
       "    <tr>\n",
       "      <th>4</th>\n",
       "      <td>977694425</td>\n",
       "      <td>OBS227271002</td>\n",
       "      <td>CC_BY_4_0</td>\n",
       "      <td>CLO</td>\n",
       "      <td>EBIRD</td>\n",
       "      <td>HUMAN_OBSERVATION</td>\n",
       "      <td>URN:catalog:CLO:EBIRD:OBS227271002</td>\n",
       "      <td>OBS227271002</td>\n",
       "      <td>obsr197067</td>\n",
       "      <td>NaN</td>\n",
       "      <td>...</td>\n",
       "      <td>False</td>\n",
       "      <td>GBR</td>\n",
       "      <td>United Kingdom</td>\n",
       "      <td>GBR.3_1</td>\n",
       "      <td>Scotland</td>\n",
       "      <td>GBR.3.17_1</td>\n",
       "      <td>Highland</td>\n",
       "      <td>GBR.3.17.1_1</td>\n",
       "      <td>Highland</td>\n",
       "      <td>LC</td>\n",
       "    </tr>\n",
       "  </tbody>\n",
       "</table>\n",
       "<p>5 rows × 66 columns</p>\n",
       "</div>"
      ],
      "text/plain": [
       "      gbifID    identifier    license institutionCode collectionCode  \\\n",
       "0  979787701  OBS241064759  CC_BY_4_0             CLO          EBIRD   \n",
       "1  978552557  OBS233681617  CC_BY_4_0             CLO          EBIRD   \n",
       "2  977779462  OBS227814916  CC_BY_4_0             CLO          EBIRD   \n",
       "3  977697135  OBS227271458  CC_BY_4_0             CLO          EBIRD   \n",
       "4  977694425  OBS227271002  CC_BY_4_0             CLO          EBIRD   \n",
       "\n",
       "       basisOfRecord                        occurrenceID catalogNumber  \\\n",
       "0  HUMAN_OBSERVATION  URN:catalog:CLO:EBIRD:OBS241064759  OBS241064759   \n",
       "1  HUMAN_OBSERVATION  URN:catalog:CLO:EBIRD:OBS233681617  OBS233681617   \n",
       "2  HUMAN_OBSERVATION  URN:catalog:CLO:EBIRD:OBS227814916  OBS227814916   \n",
       "3  HUMAN_OBSERVATION  URN:catalog:CLO:EBIRD:OBS227271458  OBS227271458   \n",
       "4  HUMAN_OBSERVATION  URN:catalog:CLO:EBIRD:OBS227271002  OBS227271002   \n",
       "\n",
       "   recordedBy  individualCount  ... repatriated level0Gid      level0Name  \\\n",
       "0  obsr206932              2.0  ...       False       GBR  United Kingdom   \n",
       "1  obsr113347              4.0  ...       False       GBR  United Kingdom   \n",
       "2  obsr221472              NaN  ...       False       GBR  United Kingdom   \n",
       "3  obsr197067              NaN  ...       False       GBR  United Kingdom   \n",
       "4  obsr197067              NaN  ...       False       GBR  United Kingdom   \n",
       "\n",
       "   level1Gid  level1Name   level2Gid level2Name     level3Gid level3Name  \\\n",
       "0    GBR.3_1    Scotland  GBR.3.17_1   Highland  GBR.3.17.1_1   Highland   \n",
       "1    GBR.3_1    Scotland  GBR.3.17_1   Highland  GBR.3.17.1_1   Highland   \n",
       "2    GBR.3_1    Scotland  GBR.3.17_1   Highland  GBR.3.17.1_1   Highland   \n",
       "3    GBR.3_1    Scotland  GBR.3.17_1   Highland  GBR.3.17.1_1   Highland   \n",
       "4    GBR.3_1    Scotland  GBR.3.17_1   Highland  GBR.3.17.1_1   Highland   \n",
       "\n",
       "  iucnRedListCategory  \n",
       "0                  LC  \n",
       "1                  LC  \n",
       "2                  LC  \n",
       "3                  LC  \n",
       "4                  LC  \n",
       "\n",
       "[5 rows x 66 columns]"
      ]
     },
     "execution_count": 8,
     "metadata": {},
     "output_type": "execute_result"
    }
   ],
   "source": [
    "bird_data.head()"
   ]
  },
  {
   "cell_type": "code",
   "execution_count": 9,
   "id": "8b648c8b",
   "metadata": {},
   "outputs": [
    {
     "data": {
      "text/plain": [
       "array(['CC_BY_4_0'], dtype=object)"
      ]
     },
     "execution_count": 9,
     "metadata": {},
     "output_type": "execute_result"
    }
   ],
   "source": [
    "#inspecting more columns\n",
    "bird_data['license'].unique() #this just has one type of entry so I will remove it"
   ]
  },
  {
   "cell_type": "markdown",
   "id": "e5cdb2d2",
   "metadata": {},
   "source": [
    "In addition, 'license' only has one unique entry, so it will not be useful. I'll remove that as well. "
   ]
  },
  {
   "cell_type": "code",
   "execution_count": 10,
   "id": "3135787e",
   "metadata": {},
   "outputs": [],
   "source": [
    "#dropping more columns\n",
    "bird_data = bird_data.drop(['license'], axis = 1)"
   ]
  },
  {
   "cell_type": "markdown",
   "id": "73ea7503",
   "metadata": {},
   "source": [
    "Similarly, 'basisOfRecord' is all \"HUMAN_OBSERVATION\". "
   ]
  },
  {
   "cell_type": "code",
   "execution_count": 11,
   "id": "0b4a1c0f",
   "metadata": {},
   "outputs": [],
   "source": [
    "#dropping more columns\n",
    "bird_data = bird_data.drop(['basisOfRecord'], axis = 1)"
   ]
  },
  {
   "cell_type": "code",
   "execution_count": 12,
   "id": "ed779b68",
   "metadata": {},
   "outputs": [
    {
     "data": {
      "text/plain": [
       "True"
      ]
     },
     "execution_count": 12,
     "metadata": {},
     "output_type": "execute_result"
    }
   ],
   "source": [
    "#are identifier and catalog columns equal? \n",
    "bird_data['identifier'].eq(bird_data['catalogNumber']).all()"
   ]
  },
  {
   "cell_type": "code",
   "execution_count": 13,
   "id": "27cf13c0",
   "metadata": {},
   "outputs": [],
   "source": [
    "#remove catalogNumber column\n",
    "#dropping more columns\n",
    "bird_data = bird_data.drop(['catalogNumber'], axis = 1)"
   ]
  },
  {
   "cell_type": "markdown",
   "id": "c6b66703",
   "metadata": {},
   "source": [
    "The columns 'organismQuantityType', 'sex', 'lifeStage', 'reproductiveCondition', 'level0Gid', 'level0Name', 'level1Gid', 'level1Name', ''iucnRedListCategory', 'eventType' either have all NaN or the same information in each row, so they'll be removed. "
   ]
  },
  {
   "cell_type": "code",
   "execution_count": 14,
   "id": "d8a9502b",
   "metadata": {},
   "outputs": [
    {
     "data": {
      "text/html": [
       "<div>\n",
       "<style scoped>\n",
       "    .dataframe tbody tr th:only-of-type {\n",
       "        vertical-align: middle;\n",
       "    }\n",
       "\n",
       "    .dataframe tbody tr th {\n",
       "        vertical-align: top;\n",
       "    }\n",
       "\n",
       "    .dataframe thead th {\n",
       "        text-align: right;\n",
       "    }\n",
       "</style>\n",
       "<table border=\"1\" class=\"dataframe\">\n",
       "  <thead>\n",
       "    <tr style=\"text-align: right;\">\n",
       "      <th></th>\n",
       "      <th>gbifID</th>\n",
       "      <th>identifier</th>\n",
       "      <th>institutionCode</th>\n",
       "      <th>collectionCode</th>\n",
       "      <th>occurrenceID</th>\n",
       "      <th>recordedBy</th>\n",
       "      <th>individualCount</th>\n",
       "      <th>occurrenceStatus</th>\n",
       "      <th>eventDate</th>\n",
       "      <th>year</th>\n",
       "      <th>...</th>\n",
       "      <th>repatriated</th>\n",
       "      <th>level0Gid</th>\n",
       "      <th>level0Name</th>\n",
       "      <th>level1Gid</th>\n",
       "      <th>level1Name</th>\n",
       "      <th>level2Gid</th>\n",
       "      <th>level2Name</th>\n",
       "      <th>level3Gid</th>\n",
       "      <th>level3Name</th>\n",
       "      <th>iucnRedListCategory</th>\n",
       "    </tr>\n",
       "  </thead>\n",
       "  <tbody>\n",
       "    <tr>\n",
       "      <th>0</th>\n",
       "      <td>979787701</td>\n",
       "      <td>OBS241064759</td>\n",
       "      <td>CLO</td>\n",
       "      <td>EBIRD</td>\n",
       "      <td>URN:catalog:CLO:EBIRD:OBS241064759</td>\n",
       "      <td>obsr206932</td>\n",
       "      <td>2.0</td>\n",
       "      <td>PRESENT</td>\n",
       "      <td>2013-05-31T00:00:00</td>\n",
       "      <td>2013</td>\n",
       "      <td>...</td>\n",
       "      <td>False</td>\n",
       "      <td>GBR</td>\n",
       "      <td>United Kingdom</td>\n",
       "      <td>GBR.3_1</td>\n",
       "      <td>Scotland</td>\n",
       "      <td>GBR.3.17_1</td>\n",
       "      <td>Highland</td>\n",
       "      <td>GBR.3.17.1_1</td>\n",
       "      <td>Highland</td>\n",
       "      <td>LC</td>\n",
       "    </tr>\n",
       "    <tr>\n",
       "      <th>1</th>\n",
       "      <td>978552557</td>\n",
       "      <td>OBS233681617</td>\n",
       "      <td>CLO</td>\n",
       "      <td>EBIRD</td>\n",
       "      <td>URN:catalog:CLO:EBIRD:OBS233681617</td>\n",
       "      <td>obsr113347</td>\n",
       "      <td>4.0</td>\n",
       "      <td>PRESENT</td>\n",
       "      <td>1955-07-08T00:00:00</td>\n",
       "      <td>1955</td>\n",
       "      <td>...</td>\n",
       "      <td>False</td>\n",
       "      <td>GBR</td>\n",
       "      <td>United Kingdom</td>\n",
       "      <td>GBR.3_1</td>\n",
       "      <td>Scotland</td>\n",
       "      <td>GBR.3.17_1</td>\n",
       "      <td>Highland</td>\n",
       "      <td>GBR.3.17.1_1</td>\n",
       "      <td>Highland</td>\n",
       "      <td>LC</td>\n",
       "    </tr>\n",
       "    <tr>\n",
       "      <th>2</th>\n",
       "      <td>977779462</td>\n",
       "      <td>OBS227814916</td>\n",
       "      <td>CLO</td>\n",
       "      <td>EBIRD</td>\n",
       "      <td>URN:catalog:CLO:EBIRD:OBS227814916</td>\n",
       "      <td>obsr221472</td>\n",
       "      <td>NaN</td>\n",
       "      <td>PRESENT</td>\n",
       "      <td>2008-06-04T00:00:00</td>\n",
       "      <td>2008</td>\n",
       "      <td>...</td>\n",
       "      <td>False</td>\n",
       "      <td>GBR</td>\n",
       "      <td>United Kingdom</td>\n",
       "      <td>GBR.3_1</td>\n",
       "      <td>Scotland</td>\n",
       "      <td>GBR.3.17_1</td>\n",
       "      <td>Highland</td>\n",
       "      <td>GBR.3.17.1_1</td>\n",
       "      <td>Highland</td>\n",
       "      <td>LC</td>\n",
       "    </tr>\n",
       "    <tr>\n",
       "      <th>3</th>\n",
       "      <td>977697135</td>\n",
       "      <td>OBS227271458</td>\n",
       "      <td>CLO</td>\n",
       "      <td>EBIRD</td>\n",
       "      <td>URN:catalog:CLO:EBIRD:OBS227271458</td>\n",
       "      <td>obsr197067</td>\n",
       "      <td>NaN</td>\n",
       "      <td>PRESENT</td>\n",
       "      <td>2012-06-30T00:00:00</td>\n",
       "      <td>2012</td>\n",
       "      <td>...</td>\n",
       "      <td>False</td>\n",
       "      <td>GBR</td>\n",
       "      <td>United Kingdom</td>\n",
       "      <td>GBR.3_1</td>\n",
       "      <td>Scotland</td>\n",
       "      <td>GBR.3.17_1</td>\n",
       "      <td>Highland</td>\n",
       "      <td>GBR.3.17.1_1</td>\n",
       "      <td>Highland</td>\n",
       "      <td>LC</td>\n",
       "    </tr>\n",
       "    <tr>\n",
       "      <th>4</th>\n",
       "      <td>977694425</td>\n",
       "      <td>OBS227271002</td>\n",
       "      <td>CLO</td>\n",
       "      <td>EBIRD</td>\n",
       "      <td>URN:catalog:CLO:EBIRD:OBS227271002</td>\n",
       "      <td>obsr197067</td>\n",
       "      <td>NaN</td>\n",
       "      <td>PRESENT</td>\n",
       "      <td>2012-06-28T00:00:00</td>\n",
       "      <td>2012</td>\n",
       "      <td>...</td>\n",
       "      <td>False</td>\n",
       "      <td>GBR</td>\n",
       "      <td>United Kingdom</td>\n",
       "      <td>GBR.3_1</td>\n",
       "      <td>Scotland</td>\n",
       "      <td>GBR.3.17_1</td>\n",
       "      <td>Highland</td>\n",
       "      <td>GBR.3.17.1_1</td>\n",
       "      <td>Highland</td>\n",
       "      <td>LC</td>\n",
       "    </tr>\n",
       "  </tbody>\n",
       "</table>\n",
       "<p>5 rows × 63 columns</p>\n",
       "</div>"
      ],
      "text/plain": [
       "      gbifID    identifier institutionCode collectionCode  \\\n",
       "0  979787701  OBS241064759             CLO          EBIRD   \n",
       "1  978552557  OBS233681617             CLO          EBIRD   \n",
       "2  977779462  OBS227814916             CLO          EBIRD   \n",
       "3  977697135  OBS227271458             CLO          EBIRD   \n",
       "4  977694425  OBS227271002             CLO          EBIRD   \n",
       "\n",
       "                         occurrenceID  recordedBy  individualCount  \\\n",
       "0  URN:catalog:CLO:EBIRD:OBS241064759  obsr206932              2.0   \n",
       "1  URN:catalog:CLO:EBIRD:OBS233681617  obsr113347              4.0   \n",
       "2  URN:catalog:CLO:EBIRD:OBS227814916  obsr221472              NaN   \n",
       "3  URN:catalog:CLO:EBIRD:OBS227271458  obsr197067              NaN   \n",
       "4  URN:catalog:CLO:EBIRD:OBS227271002  obsr197067              NaN   \n",
       "\n",
       "  occurrenceStatus            eventDate  year  ...  repatriated  level0Gid  \\\n",
       "0          PRESENT  2013-05-31T00:00:00  2013  ...        False        GBR   \n",
       "1          PRESENT  1955-07-08T00:00:00  1955  ...        False        GBR   \n",
       "2          PRESENT  2008-06-04T00:00:00  2008  ...        False        GBR   \n",
       "3          PRESENT  2012-06-30T00:00:00  2012  ...        False        GBR   \n",
       "4          PRESENT  2012-06-28T00:00:00  2012  ...        False        GBR   \n",
       "\n",
       "       level0Name level1Gid level1Name   level2Gid level2Name     level3Gid  \\\n",
       "0  United Kingdom   GBR.3_1   Scotland  GBR.3.17_1   Highland  GBR.3.17.1_1   \n",
       "1  United Kingdom   GBR.3_1   Scotland  GBR.3.17_1   Highland  GBR.3.17.1_1   \n",
       "2  United Kingdom   GBR.3_1   Scotland  GBR.3.17_1   Highland  GBR.3.17.1_1   \n",
       "3  United Kingdom   GBR.3_1   Scotland  GBR.3.17_1   Highland  GBR.3.17.1_1   \n",
       "4  United Kingdom   GBR.3_1   Scotland  GBR.3.17_1   Highland  GBR.3.17.1_1   \n",
       "\n",
       "   level3Name iucnRedListCategory  \n",
       "0    Highland                  LC  \n",
       "1    Highland                  LC  \n",
       "2    Highland                  LC  \n",
       "3    Highland                  LC  \n",
       "4    Highland                  LC  \n",
       "\n",
       "[5 rows x 63 columns]"
      ]
     },
     "execution_count": 14,
     "metadata": {},
     "output_type": "execute_result"
    }
   ],
   "source": [
    "bird_data.head()"
   ]
  },
  {
   "cell_type": "code",
   "execution_count": 15,
   "id": "dc9f14ff",
   "metadata": {},
   "outputs": [
    {
     "data": {
      "text/plain": [
       "array(['2022-03-02T17:41:33.833Z'], dtype=object)"
      ]
     },
     "execution_count": 15,
     "metadata": {},
     "output_type": "execute_result"
    }
   ],
   "source": [
    "#inspecting more columns\n",
    "bird_data['lastCrawled'].unique() "
   ]
  },
  {
   "cell_type": "code",
   "execution_count": 16,
   "id": "1558839a",
   "metadata": {},
   "outputs": [],
   "source": [
    "#dropping more columns that are not unique\n",
    "bird_data = bird_data.drop(['kingdom', \n",
    "                            'phylum',\n",
    "                            'class',\n",
    "                            'genus',\n",
    "                            'order',\n",
    "                            'family',\n",
    "                            'taxonConceptID',\n",
    "                            'vernacularName',\n",
    "                            'specificEpithet',\n",
    "                            'genericName',\n",
    "                            'scientificName',\n",
    "                            'classKey', \n",
    "                            'genusKey', \n",
    "                            'familyKey',\n",
    "                            'taxonRank',\n",
    "                            'acceptedTaxonKey',\n",
    "                            'taxonomicStatus',\n",
    "                            'countryCode',\n",
    "                            'taxonKey',\n",
    "                            'phylumKey',\n",
    "                            'datasetKey',\n",
    "                            'kingdomKey',\n",
    "                            'publishingCountry',\n",
    "                            'orderKey', \n",
    "                            'verbatimScientificName', \n",
    "                            'speciesKey',\n",
    "                            'continent',\n",
    "                            'species', \n",
    "                            'protocol', \n",
    "                            'acceptedScientificName', \n",
    "                            'occurrenceStatus', \n",
    "                            'repatriated', \n",
    "                            'level0Gid', \n",
    "                            'level0Name', \n",
    "                            'level1Gid', \n",
    "                            'level1Name', \n",
    "                            'iucnRedListCategory',\n",
    "                            'hasGeospatialIssues',\n",
    "                            'hasCoordinate',\n",
    "                            'stateProvince',\n",
    "                            'institutionCode',\n",
    "                            'lastCrawled'\n",
    "                           ], axis = 1)"
   ]
  },
  {
   "cell_type": "code",
   "execution_count": 17,
   "id": "73fdea87",
   "metadata": {},
   "outputs": [
    {
     "data": {
      "text/html": [
       "<div>\n",
       "<style scoped>\n",
       "    .dataframe tbody tr th:only-of-type {\n",
       "        vertical-align: middle;\n",
       "    }\n",
       "\n",
       "    .dataframe tbody tr th {\n",
       "        vertical-align: top;\n",
       "    }\n",
       "\n",
       "    .dataframe thead th {\n",
       "        text-align: right;\n",
       "    }\n",
       "</style>\n",
       "<table border=\"1\" class=\"dataframe\">\n",
       "  <thead>\n",
       "    <tr style=\"text-align: right;\">\n",
       "      <th></th>\n",
       "      <th>gbifID</th>\n",
       "      <th>identifier</th>\n",
       "      <th>collectionCode</th>\n",
       "      <th>occurrenceID</th>\n",
       "      <th>recordedBy</th>\n",
       "      <th>individualCount</th>\n",
       "      <th>eventDate</th>\n",
       "      <th>year</th>\n",
       "      <th>month</th>\n",
       "      <th>day</th>\n",
       "      <th>...</th>\n",
       "      <th>locality</th>\n",
       "      <th>decimalLatitude</th>\n",
       "      <th>decimalLongitude</th>\n",
       "      <th>lastInterpreted</th>\n",
       "      <th>issue</th>\n",
       "      <th>lastParsed</th>\n",
       "      <th>level2Gid</th>\n",
       "      <th>level2Name</th>\n",
       "      <th>level3Gid</th>\n",
       "      <th>level3Name</th>\n",
       "    </tr>\n",
       "  </thead>\n",
       "  <tbody>\n",
       "    <tr>\n",
       "      <th>809</th>\n",
       "      <td>1175445609</td>\n",
       "      <td>OBS258420801</td>\n",
       "      <td>EBIRD</td>\n",
       "      <td>URN:catalog:CLO:EBIRD:OBS258420801</td>\n",
       "      <td>obsr60228</td>\n",
       "      <td>NaN</td>\n",
       "      <td>1986-05-24T00:00:00</td>\n",
       "      <td>1986</td>\n",
       "      <td>5</td>\n",
       "      <td>24</td>\n",
       "      <td>...</td>\n",
       "      <td>Loch Garten RSPB Reserve</td>\n",
       "      <td>57.243744</td>\n",
       "      <td>-3.695462</td>\n",
       "      <td>2023-01-24T15:17:53.555Z</td>\n",
       "      <td>COORDINATE_ROUNDED;CONTINENT_DERIVED_FROM_COOR...</td>\n",
       "      <td>2023-01-24T15:17:53.555Z</td>\n",
       "      <td>GBR.3.17_1</td>\n",
       "      <td>Highland</td>\n",
       "      <td>GBR.3.17.1_1</td>\n",
       "      <td>Highland</td>\n",
       "    </tr>\n",
       "    <tr>\n",
       "      <th>810</th>\n",
       "      <td>1173026325</td>\n",
       "      <td>OBS255802676</td>\n",
       "      <td>EBIRD</td>\n",
       "      <td>URN:catalog:CLO:EBIRD:OBS255802676</td>\n",
       "      <td>obsr319794</td>\n",
       "      <td>8.0</td>\n",
       "      <td>2014-04-25T00:00:00</td>\n",
       "      <td>2014</td>\n",
       "      <td>4</td>\n",
       "      <td>25</td>\n",
       "      <td>...</td>\n",
       "      <td>Cairngorms NP--Craigmore Wood</td>\n",
       "      <td>57.277557</td>\n",
       "      <td>-3.637161</td>\n",
       "      <td>2023-01-24T15:18:05.453Z</td>\n",
       "      <td>COORDINATE_ROUNDED;CONTINENT_DERIVED_FROM_COOR...</td>\n",
       "      <td>2023-01-24T15:18:05.453Z</td>\n",
       "      <td>GBR.3.17_1</td>\n",
       "      <td>Highland</td>\n",
       "      <td>GBR.3.17.1_1</td>\n",
       "      <td>Highland</td>\n",
       "    </tr>\n",
       "    <tr>\n",
       "      <th>811</th>\n",
       "      <td>1171895135</td>\n",
       "      <td>OBS254487768</td>\n",
       "      <td>EBIRD</td>\n",
       "      <td>URN:catalog:CLO:EBIRD:OBS254487768</td>\n",
       "      <td>obsr16544</td>\n",
       "      <td>1.0</td>\n",
       "      <td>2014-05-18T00:00:00</td>\n",
       "      <td>2014</td>\n",
       "      <td>5</td>\n",
       "      <td>18</td>\n",
       "      <td>...</td>\n",
       "      <td>Anagach Woods</td>\n",
       "      <td>57.344383</td>\n",
       "      <td>-3.588014</td>\n",
       "      <td>2023-01-24T15:13:17.353Z</td>\n",
       "      <td>CONTINENT_DERIVED_FROM_COORDINATES</td>\n",
       "      <td>2023-01-24T15:13:17.353Z</td>\n",
       "      <td>GBR.3.17_1</td>\n",
       "      <td>Highland</td>\n",
       "      <td>GBR.3.17.1_1</td>\n",
       "      <td>Highland</td>\n",
       "    </tr>\n",
       "    <tr>\n",
       "      <th>812</th>\n",
       "      <td>1159301170</td>\n",
       "      <td>OBS239073381</td>\n",
       "      <td>EBIRD</td>\n",
       "      <td>URN:catalog:CLO:EBIRD:OBS239073381</td>\n",
       "      <td>obsr221472</td>\n",
       "      <td>NaN</td>\n",
       "      <td>2014-03-02T00:00:00</td>\n",
       "      <td>2014</td>\n",
       "      <td>3</td>\n",
       "      <td>2</td>\n",
       "      <td>...</td>\n",
       "      <td>Loch Garten RSPB Reserve</td>\n",
       "      <td>57.243744</td>\n",
       "      <td>-3.695462</td>\n",
       "      <td>2023-01-24T15:16:29.270Z</td>\n",
       "      <td>COORDINATE_ROUNDED;CONTINENT_DERIVED_FROM_COOR...</td>\n",
       "      <td>2023-01-24T15:16:29.270Z</td>\n",
       "      <td>GBR.3.17_1</td>\n",
       "      <td>Highland</td>\n",
       "      <td>GBR.3.17.1_1</td>\n",
       "      <td>Highland</td>\n",
       "    </tr>\n",
       "    <tr>\n",
       "      <th>813</th>\n",
       "      <td>1153900734</td>\n",
       "      <td>OBS228605210</td>\n",
       "      <td>EBIRD_AU</td>\n",
       "      <td>URN:catalog:CLO:EBIRD_AU:OBS228605210</td>\n",
       "      <td>obsr450476</td>\n",
       "      <td>NaN</td>\n",
       "      <td>1986-05-15T00:00:00</td>\n",
       "      <td>1986</td>\n",
       "      <td>5</td>\n",
       "      <td>15</td>\n",
       "      <td>...</td>\n",
       "      <td>Abergeldie</td>\n",
       "      <td>57.043710</td>\n",
       "      <td>-3.175040</td>\n",
       "      <td>2023-01-24T14:57:20.097Z</td>\n",
       "      <td>CONTINENT_DERIVED_FROM_COORDINATES</td>\n",
       "      <td>2023-01-24T14:57:20.097Z</td>\n",
       "      <td>GBR.3.2_1</td>\n",
       "      <td>Aberdeenshire</td>\n",
       "      <td>GBR.3.2.1_1</td>\n",
       "      <td>Aberdeenshire</td>\n",
       "    </tr>\n",
       "  </tbody>\n",
       "</table>\n",
       "<p>5 rows × 21 columns</p>\n",
       "</div>"
      ],
      "text/plain": [
       "         gbifID    identifier collectionCode  \\\n",
       "809  1175445609  OBS258420801          EBIRD   \n",
       "810  1173026325  OBS255802676          EBIRD   \n",
       "811  1171895135  OBS254487768          EBIRD   \n",
       "812  1159301170  OBS239073381          EBIRD   \n",
       "813  1153900734  OBS228605210       EBIRD_AU   \n",
       "\n",
       "                              occurrenceID  recordedBy  individualCount  \\\n",
       "809     URN:catalog:CLO:EBIRD:OBS258420801   obsr60228              NaN   \n",
       "810     URN:catalog:CLO:EBIRD:OBS255802676  obsr319794              8.0   \n",
       "811     URN:catalog:CLO:EBIRD:OBS254487768   obsr16544              1.0   \n",
       "812     URN:catalog:CLO:EBIRD:OBS239073381  obsr221472              NaN   \n",
       "813  URN:catalog:CLO:EBIRD_AU:OBS228605210  obsr450476              NaN   \n",
       "\n",
       "               eventDate  year  month  day  ...  \\\n",
       "809  1986-05-24T00:00:00  1986      5   24  ...   \n",
       "810  2014-04-25T00:00:00  2014      4   25  ...   \n",
       "811  2014-05-18T00:00:00  2014      5   18  ...   \n",
       "812  2014-03-02T00:00:00  2014      3    2  ...   \n",
       "813  1986-05-15T00:00:00  1986      5   15  ...   \n",
       "\n",
       "                          locality decimalLatitude  decimalLongitude  \\\n",
       "809       Loch Garten RSPB Reserve       57.243744         -3.695462   \n",
       "810  Cairngorms NP--Craigmore Wood       57.277557         -3.637161   \n",
       "811                  Anagach Woods       57.344383         -3.588014   \n",
       "812       Loch Garten RSPB Reserve       57.243744         -3.695462   \n",
       "813                     Abergeldie       57.043710         -3.175040   \n",
       "\n",
       "              lastInterpreted  \\\n",
       "809  2023-01-24T15:17:53.555Z   \n",
       "810  2023-01-24T15:18:05.453Z   \n",
       "811  2023-01-24T15:13:17.353Z   \n",
       "812  2023-01-24T15:16:29.270Z   \n",
       "813  2023-01-24T14:57:20.097Z   \n",
       "\n",
       "                                                 issue  \\\n",
       "809  COORDINATE_ROUNDED;CONTINENT_DERIVED_FROM_COOR...   \n",
       "810  COORDINATE_ROUNDED;CONTINENT_DERIVED_FROM_COOR...   \n",
       "811                 CONTINENT_DERIVED_FROM_COORDINATES   \n",
       "812  COORDINATE_ROUNDED;CONTINENT_DERIVED_FROM_COOR...   \n",
       "813                 CONTINENT_DERIVED_FROM_COORDINATES   \n",
       "\n",
       "                   lastParsed   level2Gid     level2Name     level3Gid  \\\n",
       "809  2023-01-24T15:17:53.555Z  GBR.3.17_1       Highland  GBR.3.17.1_1   \n",
       "810  2023-01-24T15:18:05.453Z  GBR.3.17_1       Highland  GBR.3.17.1_1   \n",
       "811  2023-01-24T15:13:17.353Z  GBR.3.17_1       Highland  GBR.3.17.1_1   \n",
       "812  2023-01-24T15:16:29.270Z  GBR.3.17_1       Highland  GBR.3.17.1_1   \n",
       "813  2023-01-24T14:57:20.097Z   GBR.3.2_1  Aberdeenshire   GBR.3.2.1_1   \n",
       "\n",
       "        level3Name  \n",
       "809       Highland  \n",
       "810       Highland  \n",
       "811       Highland  \n",
       "812       Highland  \n",
       "813  Aberdeenshire  \n",
       "\n",
       "[5 rows x 21 columns]"
      ]
     },
     "execution_count": 17,
     "metadata": {},
     "output_type": "execute_result"
    }
   ],
   "source": [
    "bird_data.tail()"
   ]
  },
  {
   "cell_type": "code",
   "execution_count": 18,
   "id": "b7e519a2",
   "metadata": {},
   "outputs": [
    {
     "data": {
      "text/plain": [
       "['gbifID',\n",
       " 'identifier',\n",
       " 'collectionCode',\n",
       " 'occurrenceID',\n",
       " 'recordedBy',\n",
       " 'individualCount',\n",
       " 'eventDate',\n",
       " 'year',\n",
       " 'month',\n",
       " 'day',\n",
       " 'county',\n",
       " 'locality',\n",
       " 'decimalLatitude',\n",
       " 'decimalLongitude',\n",
       " 'lastInterpreted',\n",
       " 'issue',\n",
       " 'lastParsed',\n",
       " 'level2Gid',\n",
       " 'level2Name',\n",
       " 'level3Gid',\n",
       " 'level3Name']"
      ]
     },
     "execution_count": 18,
     "metadata": {},
     "output_type": "execute_result"
    }
   ],
   "source": [
    "list(bird_data.columns)"
   ]
  },
  {
   "cell_type": "code",
   "execution_count": 19,
   "id": "cae03346",
   "metadata": {},
   "outputs": [
    {
     "data": {
      "text/html": [
       "<div>\n",
       "<style scoped>\n",
       "    .dataframe tbody tr th:only-of-type {\n",
       "        vertical-align: middle;\n",
       "    }\n",
       "\n",
       "    .dataframe tbody tr th {\n",
       "        vertical-align: top;\n",
       "    }\n",
       "\n",
       "    .dataframe thead th {\n",
       "        text-align: right;\n",
       "    }\n",
       "</style>\n",
       "<table border=\"1\" class=\"dataframe\">\n",
       "  <thead>\n",
       "    <tr style=\"text-align: right;\">\n",
       "      <th></th>\n",
       "      <th>gbifID</th>\n",
       "      <th>identifier</th>\n",
       "      <th>collectionCode</th>\n",
       "      <th>occurrenceID</th>\n",
       "      <th>recordedBy</th>\n",
       "      <th>individualCount</th>\n",
       "      <th>eventDate</th>\n",
       "      <th>year</th>\n",
       "      <th>month</th>\n",
       "      <th>day</th>\n",
       "      <th>...</th>\n",
       "      <th>locality</th>\n",
       "      <th>decimalLatitude</th>\n",
       "      <th>decimalLongitude</th>\n",
       "      <th>lastInterpreted</th>\n",
       "      <th>issue</th>\n",
       "      <th>lastParsed</th>\n",
       "      <th>level2Gid</th>\n",
       "      <th>level2Name</th>\n",
       "      <th>level3Gid</th>\n",
       "      <th>level3Name</th>\n",
       "    </tr>\n",
       "  </thead>\n",
       "  <tbody>\n",
       "    <tr>\n",
       "      <th>0</th>\n",
       "      <td>979787701</td>\n",
       "      <td>OBS241064759</td>\n",
       "      <td>EBIRD</td>\n",
       "      <td>URN:catalog:CLO:EBIRD:OBS241064759</td>\n",
       "      <td>obsr206932</td>\n",
       "      <td>2.0</td>\n",
       "      <td>2013-05-31T00:00:00</td>\n",
       "      <td>2013</td>\n",
       "      <td>5</td>\n",
       "      <td>31</td>\n",
       "      <td>...</td>\n",
       "      <td>Rothiemurchus</td>\n",
       "      <td>57.181225</td>\n",
       "      <td>-3.810824</td>\n",
       "      <td>2023-01-24T14:58:22.687Z</td>\n",
       "      <td>COORDINATE_ROUNDED;CONTINENT_DERIVED_FROM_COOR...</td>\n",
       "      <td>2023-01-24T14:58:22.687Z</td>\n",
       "      <td>GBR.3.17_1</td>\n",
       "      <td>Highland</td>\n",
       "      <td>GBR.3.17.1_1</td>\n",
       "      <td>Highland</td>\n",
       "    </tr>\n",
       "    <tr>\n",
       "      <th>1</th>\n",
       "      <td>978552557</td>\n",
       "      <td>OBS233681617</td>\n",
       "      <td>EBIRD</td>\n",
       "      <td>URN:catalog:CLO:EBIRD:OBS233681617</td>\n",
       "      <td>obsr113347</td>\n",
       "      <td>4.0</td>\n",
       "      <td>1955-07-08T00:00:00</td>\n",
       "      <td>1955</td>\n",
       "      <td>7</td>\n",
       "      <td>8</td>\n",
       "      <td>...</td>\n",
       "      <td>Cairngorms NP--Craigmore Wood</td>\n",
       "      <td>57.277557</td>\n",
       "      <td>-3.637161</td>\n",
       "      <td>2023-01-24T15:18:35.527Z</td>\n",
       "      <td>COORDINATE_ROUNDED;CONTINENT_DERIVED_FROM_COOR...</td>\n",
       "      <td>2023-01-24T15:18:35.527Z</td>\n",
       "      <td>GBR.3.17_1</td>\n",
       "      <td>Highland</td>\n",
       "      <td>GBR.3.17.1_1</td>\n",
       "      <td>Highland</td>\n",
       "    </tr>\n",
       "    <tr>\n",
       "      <th>2</th>\n",
       "      <td>977779462</td>\n",
       "      <td>OBS227814916</td>\n",
       "      <td>EBIRD</td>\n",
       "      <td>URN:catalog:CLO:EBIRD:OBS227814916</td>\n",
       "      <td>obsr221472</td>\n",
       "      <td>NaN</td>\n",
       "      <td>2008-06-04T00:00:00</td>\n",
       "      <td>2008</td>\n",
       "      <td>6</td>\n",
       "      <td>4</td>\n",
       "      <td>...</td>\n",
       "      <td>SCO, Nethy River Walks</td>\n",
       "      <td>57.263683</td>\n",
       "      <td>-3.642869</td>\n",
       "      <td>2023-01-24T15:16:23.452Z</td>\n",
       "      <td>CONTINENT_DERIVED_FROM_COORDINATES</td>\n",
       "      <td>2023-01-24T15:16:23.452Z</td>\n",
       "      <td>GBR.3.17_1</td>\n",
       "      <td>Highland</td>\n",
       "      <td>GBR.3.17.1_1</td>\n",
       "      <td>Highland</td>\n",
       "    </tr>\n",
       "    <tr>\n",
       "      <th>3</th>\n",
       "      <td>977697135</td>\n",
       "      <td>OBS227271458</td>\n",
       "      <td>EBIRD</td>\n",
       "      <td>URN:catalog:CLO:EBIRD:OBS227271458</td>\n",
       "      <td>obsr197067</td>\n",
       "      <td>NaN</td>\n",
       "      <td>2012-06-30T00:00:00</td>\n",
       "      <td>2012</td>\n",
       "      <td>6</td>\n",
       "      <td>30</td>\n",
       "      <td>...</td>\n",
       "      <td>Abernethy Forest</td>\n",
       "      <td>57.240980</td>\n",
       "      <td>-3.672695</td>\n",
       "      <td>2023-01-24T14:57:19.900Z</td>\n",
       "      <td>COORDINATE_ROUNDED;CONTINENT_DERIVED_FROM_COOR...</td>\n",
       "      <td>2023-01-24T14:57:19.900Z</td>\n",
       "      <td>GBR.3.17_1</td>\n",
       "      <td>Highland</td>\n",
       "      <td>GBR.3.17.1_1</td>\n",
       "      <td>Highland</td>\n",
       "    </tr>\n",
       "    <tr>\n",
       "      <th>4</th>\n",
       "      <td>977694425</td>\n",
       "      <td>OBS227271002</td>\n",
       "      <td>EBIRD</td>\n",
       "      <td>URN:catalog:CLO:EBIRD:OBS227271002</td>\n",
       "      <td>obsr197067</td>\n",
       "      <td>NaN</td>\n",
       "      <td>2012-06-28T00:00:00</td>\n",
       "      <td>2012</td>\n",
       "      <td>6</td>\n",
       "      <td>28</td>\n",
       "      <td>...</td>\n",
       "      <td>Loch Garten RSPB Reserve</td>\n",
       "      <td>57.243744</td>\n",
       "      <td>-3.695462</td>\n",
       "      <td>2023-01-24T14:58:55.504Z</td>\n",
       "      <td>COORDINATE_ROUNDED;CONTINENT_DERIVED_FROM_COOR...</td>\n",
       "      <td>2023-01-24T14:58:55.504Z</td>\n",
       "      <td>GBR.3.17_1</td>\n",
       "      <td>Highland</td>\n",
       "      <td>GBR.3.17.1_1</td>\n",
       "      <td>Highland</td>\n",
       "    </tr>\n",
       "    <tr>\n",
       "      <th>...</th>\n",
       "      <td>...</td>\n",
       "      <td>...</td>\n",
       "      <td>...</td>\n",
       "      <td>...</td>\n",
       "      <td>...</td>\n",
       "      <td>...</td>\n",
       "      <td>...</td>\n",
       "      <td>...</td>\n",
       "      <td>...</td>\n",
       "      <td>...</td>\n",
       "      <td>...</td>\n",
       "      <td>...</td>\n",
       "      <td>...</td>\n",
       "      <td>...</td>\n",
       "      <td>...</td>\n",
       "      <td>...</td>\n",
       "      <td>...</td>\n",
       "      <td>...</td>\n",
       "      <td>...</td>\n",
       "      <td>...</td>\n",
       "      <td>...</td>\n",
       "    </tr>\n",
       "    <tr>\n",
       "      <th>809</th>\n",
       "      <td>1175445609</td>\n",
       "      <td>OBS258420801</td>\n",
       "      <td>EBIRD</td>\n",
       "      <td>URN:catalog:CLO:EBIRD:OBS258420801</td>\n",
       "      <td>obsr60228</td>\n",
       "      <td>NaN</td>\n",
       "      <td>1986-05-24T00:00:00</td>\n",
       "      <td>1986</td>\n",
       "      <td>5</td>\n",
       "      <td>24</td>\n",
       "      <td>...</td>\n",
       "      <td>Loch Garten RSPB Reserve</td>\n",
       "      <td>57.243744</td>\n",
       "      <td>-3.695462</td>\n",
       "      <td>2023-01-24T15:17:53.555Z</td>\n",
       "      <td>COORDINATE_ROUNDED;CONTINENT_DERIVED_FROM_COOR...</td>\n",
       "      <td>2023-01-24T15:17:53.555Z</td>\n",
       "      <td>GBR.3.17_1</td>\n",
       "      <td>Highland</td>\n",
       "      <td>GBR.3.17.1_1</td>\n",
       "      <td>Highland</td>\n",
       "    </tr>\n",
       "    <tr>\n",
       "      <th>810</th>\n",
       "      <td>1173026325</td>\n",
       "      <td>OBS255802676</td>\n",
       "      <td>EBIRD</td>\n",
       "      <td>URN:catalog:CLO:EBIRD:OBS255802676</td>\n",
       "      <td>obsr319794</td>\n",
       "      <td>8.0</td>\n",
       "      <td>2014-04-25T00:00:00</td>\n",
       "      <td>2014</td>\n",
       "      <td>4</td>\n",
       "      <td>25</td>\n",
       "      <td>...</td>\n",
       "      <td>Cairngorms NP--Craigmore Wood</td>\n",
       "      <td>57.277557</td>\n",
       "      <td>-3.637161</td>\n",
       "      <td>2023-01-24T15:18:05.453Z</td>\n",
       "      <td>COORDINATE_ROUNDED;CONTINENT_DERIVED_FROM_COOR...</td>\n",
       "      <td>2023-01-24T15:18:05.453Z</td>\n",
       "      <td>GBR.3.17_1</td>\n",
       "      <td>Highland</td>\n",
       "      <td>GBR.3.17.1_1</td>\n",
       "      <td>Highland</td>\n",
       "    </tr>\n",
       "    <tr>\n",
       "      <th>811</th>\n",
       "      <td>1171895135</td>\n",
       "      <td>OBS254487768</td>\n",
       "      <td>EBIRD</td>\n",
       "      <td>URN:catalog:CLO:EBIRD:OBS254487768</td>\n",
       "      <td>obsr16544</td>\n",
       "      <td>1.0</td>\n",
       "      <td>2014-05-18T00:00:00</td>\n",
       "      <td>2014</td>\n",
       "      <td>5</td>\n",
       "      <td>18</td>\n",
       "      <td>...</td>\n",
       "      <td>Anagach Woods</td>\n",
       "      <td>57.344383</td>\n",
       "      <td>-3.588014</td>\n",
       "      <td>2023-01-24T15:13:17.353Z</td>\n",
       "      <td>CONTINENT_DERIVED_FROM_COORDINATES</td>\n",
       "      <td>2023-01-24T15:13:17.353Z</td>\n",
       "      <td>GBR.3.17_1</td>\n",
       "      <td>Highland</td>\n",
       "      <td>GBR.3.17.1_1</td>\n",
       "      <td>Highland</td>\n",
       "    </tr>\n",
       "    <tr>\n",
       "      <th>812</th>\n",
       "      <td>1159301170</td>\n",
       "      <td>OBS239073381</td>\n",
       "      <td>EBIRD</td>\n",
       "      <td>URN:catalog:CLO:EBIRD:OBS239073381</td>\n",
       "      <td>obsr221472</td>\n",
       "      <td>NaN</td>\n",
       "      <td>2014-03-02T00:00:00</td>\n",
       "      <td>2014</td>\n",
       "      <td>3</td>\n",
       "      <td>2</td>\n",
       "      <td>...</td>\n",
       "      <td>Loch Garten RSPB Reserve</td>\n",
       "      <td>57.243744</td>\n",
       "      <td>-3.695462</td>\n",
       "      <td>2023-01-24T15:16:29.270Z</td>\n",
       "      <td>COORDINATE_ROUNDED;CONTINENT_DERIVED_FROM_COOR...</td>\n",
       "      <td>2023-01-24T15:16:29.270Z</td>\n",
       "      <td>GBR.3.17_1</td>\n",
       "      <td>Highland</td>\n",
       "      <td>GBR.3.17.1_1</td>\n",
       "      <td>Highland</td>\n",
       "    </tr>\n",
       "    <tr>\n",
       "      <th>813</th>\n",
       "      <td>1153900734</td>\n",
       "      <td>OBS228605210</td>\n",
       "      <td>EBIRD_AU</td>\n",
       "      <td>URN:catalog:CLO:EBIRD_AU:OBS228605210</td>\n",
       "      <td>obsr450476</td>\n",
       "      <td>NaN</td>\n",
       "      <td>1986-05-15T00:00:00</td>\n",
       "      <td>1986</td>\n",
       "      <td>5</td>\n",
       "      <td>15</td>\n",
       "      <td>...</td>\n",
       "      <td>Abergeldie</td>\n",
       "      <td>57.043710</td>\n",
       "      <td>-3.175040</td>\n",
       "      <td>2023-01-24T14:57:20.097Z</td>\n",
       "      <td>CONTINENT_DERIVED_FROM_COORDINATES</td>\n",
       "      <td>2023-01-24T14:57:20.097Z</td>\n",
       "      <td>GBR.3.2_1</td>\n",
       "      <td>Aberdeenshire</td>\n",
       "      <td>GBR.3.2.1_1</td>\n",
       "      <td>Aberdeenshire</td>\n",
       "    </tr>\n",
       "  </tbody>\n",
       "</table>\n",
       "<p>814 rows × 21 columns</p>\n",
       "</div>"
      ],
      "text/plain": [
       "         gbifID    identifier collectionCode  \\\n",
       "0     979787701  OBS241064759          EBIRD   \n",
       "1     978552557  OBS233681617          EBIRD   \n",
       "2     977779462  OBS227814916          EBIRD   \n",
       "3     977697135  OBS227271458          EBIRD   \n",
       "4     977694425  OBS227271002          EBIRD   \n",
       "..          ...           ...            ...   \n",
       "809  1175445609  OBS258420801          EBIRD   \n",
       "810  1173026325  OBS255802676          EBIRD   \n",
       "811  1171895135  OBS254487768          EBIRD   \n",
       "812  1159301170  OBS239073381          EBIRD   \n",
       "813  1153900734  OBS228605210       EBIRD_AU   \n",
       "\n",
       "                              occurrenceID  recordedBy  individualCount  \\\n",
       "0       URN:catalog:CLO:EBIRD:OBS241064759  obsr206932              2.0   \n",
       "1       URN:catalog:CLO:EBIRD:OBS233681617  obsr113347              4.0   \n",
       "2       URN:catalog:CLO:EBIRD:OBS227814916  obsr221472              NaN   \n",
       "3       URN:catalog:CLO:EBIRD:OBS227271458  obsr197067              NaN   \n",
       "4       URN:catalog:CLO:EBIRD:OBS227271002  obsr197067              NaN   \n",
       "..                                     ...         ...              ...   \n",
       "809     URN:catalog:CLO:EBIRD:OBS258420801   obsr60228              NaN   \n",
       "810     URN:catalog:CLO:EBIRD:OBS255802676  obsr319794              8.0   \n",
       "811     URN:catalog:CLO:EBIRD:OBS254487768   obsr16544              1.0   \n",
       "812     URN:catalog:CLO:EBIRD:OBS239073381  obsr221472              NaN   \n",
       "813  URN:catalog:CLO:EBIRD_AU:OBS228605210  obsr450476              NaN   \n",
       "\n",
       "               eventDate  year  month  day  ...  \\\n",
       "0    2013-05-31T00:00:00  2013      5   31  ...   \n",
       "1    1955-07-08T00:00:00  1955      7    8  ...   \n",
       "2    2008-06-04T00:00:00  2008      6    4  ...   \n",
       "3    2012-06-30T00:00:00  2012      6   30  ...   \n",
       "4    2012-06-28T00:00:00  2012      6   28  ...   \n",
       "..                   ...   ...    ...  ...  ...   \n",
       "809  1986-05-24T00:00:00  1986      5   24  ...   \n",
       "810  2014-04-25T00:00:00  2014      4   25  ...   \n",
       "811  2014-05-18T00:00:00  2014      5   18  ...   \n",
       "812  2014-03-02T00:00:00  2014      3    2  ...   \n",
       "813  1986-05-15T00:00:00  1986      5   15  ...   \n",
       "\n",
       "                          locality decimalLatitude  decimalLongitude  \\\n",
       "0                    Rothiemurchus       57.181225         -3.810824   \n",
       "1    Cairngorms NP--Craigmore Wood       57.277557         -3.637161   \n",
       "2           SCO, Nethy River Walks       57.263683         -3.642869   \n",
       "3                 Abernethy Forest       57.240980         -3.672695   \n",
       "4         Loch Garten RSPB Reserve       57.243744         -3.695462   \n",
       "..                             ...             ...               ...   \n",
       "809       Loch Garten RSPB Reserve       57.243744         -3.695462   \n",
       "810  Cairngorms NP--Craigmore Wood       57.277557         -3.637161   \n",
       "811                  Anagach Woods       57.344383         -3.588014   \n",
       "812       Loch Garten RSPB Reserve       57.243744         -3.695462   \n",
       "813                     Abergeldie       57.043710         -3.175040   \n",
       "\n",
       "              lastInterpreted  \\\n",
       "0    2023-01-24T14:58:22.687Z   \n",
       "1    2023-01-24T15:18:35.527Z   \n",
       "2    2023-01-24T15:16:23.452Z   \n",
       "3    2023-01-24T14:57:19.900Z   \n",
       "4    2023-01-24T14:58:55.504Z   \n",
       "..                        ...   \n",
       "809  2023-01-24T15:17:53.555Z   \n",
       "810  2023-01-24T15:18:05.453Z   \n",
       "811  2023-01-24T15:13:17.353Z   \n",
       "812  2023-01-24T15:16:29.270Z   \n",
       "813  2023-01-24T14:57:20.097Z   \n",
       "\n",
       "                                                 issue  \\\n",
       "0    COORDINATE_ROUNDED;CONTINENT_DERIVED_FROM_COOR...   \n",
       "1    COORDINATE_ROUNDED;CONTINENT_DERIVED_FROM_COOR...   \n",
       "2                   CONTINENT_DERIVED_FROM_COORDINATES   \n",
       "3    COORDINATE_ROUNDED;CONTINENT_DERIVED_FROM_COOR...   \n",
       "4    COORDINATE_ROUNDED;CONTINENT_DERIVED_FROM_COOR...   \n",
       "..                                                 ...   \n",
       "809  COORDINATE_ROUNDED;CONTINENT_DERIVED_FROM_COOR...   \n",
       "810  COORDINATE_ROUNDED;CONTINENT_DERIVED_FROM_COOR...   \n",
       "811                 CONTINENT_DERIVED_FROM_COORDINATES   \n",
       "812  COORDINATE_ROUNDED;CONTINENT_DERIVED_FROM_COOR...   \n",
       "813                 CONTINENT_DERIVED_FROM_COORDINATES   \n",
       "\n",
       "                   lastParsed   level2Gid     level2Name     level3Gid  \\\n",
       "0    2023-01-24T14:58:22.687Z  GBR.3.17_1       Highland  GBR.3.17.1_1   \n",
       "1    2023-01-24T15:18:35.527Z  GBR.3.17_1       Highland  GBR.3.17.1_1   \n",
       "2    2023-01-24T15:16:23.452Z  GBR.3.17_1       Highland  GBR.3.17.1_1   \n",
       "3    2023-01-24T14:57:19.900Z  GBR.3.17_1       Highland  GBR.3.17.1_1   \n",
       "4    2023-01-24T14:58:55.504Z  GBR.3.17_1       Highland  GBR.3.17.1_1   \n",
       "..                        ...         ...            ...           ...   \n",
       "809  2023-01-24T15:17:53.555Z  GBR.3.17_1       Highland  GBR.3.17.1_1   \n",
       "810  2023-01-24T15:18:05.453Z  GBR.3.17_1       Highland  GBR.3.17.1_1   \n",
       "811  2023-01-24T15:13:17.353Z  GBR.3.17_1       Highland  GBR.3.17.1_1   \n",
       "812  2023-01-24T15:16:29.270Z  GBR.3.17_1       Highland  GBR.3.17.1_1   \n",
       "813  2023-01-24T14:57:20.097Z   GBR.3.2_1  Aberdeenshire   GBR.3.2.1_1   \n",
       "\n",
       "        level3Name  \n",
       "0         Highland  \n",
       "1         Highland  \n",
       "2         Highland  \n",
       "3         Highland  \n",
       "4         Highland  \n",
       "..             ...  \n",
       "809       Highland  \n",
       "810       Highland  \n",
       "811       Highland  \n",
       "812       Highland  \n",
       "813  Aberdeenshire  \n",
       "\n",
       "[814 rows x 21 columns]"
      ]
     },
     "execution_count": 19,
     "metadata": {},
     "output_type": "execute_result"
    }
   ],
   "source": [
    "bird_data"
   ]
  },
  {
   "cell_type": "code",
   "execution_count": 20,
   "id": "d375bdac",
   "metadata": {},
   "outputs": [],
   "source": [
    "#make sure we have no duplicate occurrences\n",
    "bird_data = bird_data.drop_duplicates(subset=['occurrenceID'])"
   ]
  },
  {
   "cell_type": "code",
   "execution_count": 22,
   "id": "9167e32a",
   "metadata": {},
   "outputs": [],
   "source": [
    "#drop occurrenceID since it's the same info as identifier and collectionCode\n",
    "#and we're unlikely to need that information\n",
    "bird_data = bird_data.drop(['occurrenceID'], axis = 1)"
   ]
  },
  {
   "cell_type": "code",
   "execution_count": 23,
   "id": "4ed1c3f6",
   "metadata": {},
   "outputs": [
    {
     "data": {
      "text/html": [
       "<div>\n",
       "<style scoped>\n",
       "    .dataframe tbody tr th:only-of-type {\n",
       "        vertical-align: middle;\n",
       "    }\n",
       "\n",
       "    .dataframe tbody tr th {\n",
       "        vertical-align: top;\n",
       "    }\n",
       "\n",
       "    .dataframe thead th {\n",
       "        text-align: right;\n",
       "    }\n",
       "</style>\n",
       "<table border=\"1\" class=\"dataframe\">\n",
       "  <thead>\n",
       "    <tr style=\"text-align: right;\">\n",
       "      <th></th>\n",
       "      <th>gbifID</th>\n",
       "      <th>identifier</th>\n",
       "      <th>collectionCode</th>\n",
       "      <th>recordedBy</th>\n",
       "      <th>individualCount</th>\n",
       "      <th>eventDate</th>\n",
       "      <th>year</th>\n",
       "      <th>month</th>\n",
       "      <th>day</th>\n",
       "      <th>county</th>\n",
       "      <th>locality</th>\n",
       "      <th>decimalLatitude</th>\n",
       "      <th>decimalLongitude</th>\n",
       "      <th>lastInterpreted</th>\n",
       "      <th>issue</th>\n",
       "      <th>lastParsed</th>\n",
       "      <th>level2Gid</th>\n",
       "      <th>level2Name</th>\n",
       "      <th>level3Gid</th>\n",
       "      <th>level3Name</th>\n",
       "    </tr>\n",
       "  </thead>\n",
       "  <tbody>\n",
       "    <tr>\n",
       "      <th>0</th>\n",
       "      <td>979787701</td>\n",
       "      <td>OBS241064759</td>\n",
       "      <td>EBIRD</td>\n",
       "      <td>obsr206932</td>\n",
       "      <td>2.0</td>\n",
       "      <td>2013-05-31T00:00:00</td>\n",
       "      <td>2013</td>\n",
       "      <td>5</td>\n",
       "      <td>31</td>\n",
       "      <td>Highland</td>\n",
       "      <td>Rothiemurchus</td>\n",
       "      <td>57.181225</td>\n",
       "      <td>-3.810824</td>\n",
       "      <td>2023-01-24T14:58:22.687Z</td>\n",
       "      <td>COORDINATE_ROUNDED;CONTINENT_DERIVED_FROM_COOR...</td>\n",
       "      <td>2023-01-24T14:58:22.687Z</td>\n",
       "      <td>GBR.3.17_1</td>\n",
       "      <td>Highland</td>\n",
       "      <td>GBR.3.17.1_1</td>\n",
       "      <td>Highland</td>\n",
       "    </tr>\n",
       "    <tr>\n",
       "      <th>1</th>\n",
       "      <td>978552557</td>\n",
       "      <td>OBS233681617</td>\n",
       "      <td>EBIRD</td>\n",
       "      <td>obsr113347</td>\n",
       "      <td>4.0</td>\n",
       "      <td>1955-07-08T00:00:00</td>\n",
       "      <td>1955</td>\n",
       "      <td>7</td>\n",
       "      <td>8</td>\n",
       "      <td>Highland</td>\n",
       "      <td>Cairngorms NP--Craigmore Wood</td>\n",
       "      <td>57.277557</td>\n",
       "      <td>-3.637161</td>\n",
       "      <td>2023-01-24T15:18:35.527Z</td>\n",
       "      <td>COORDINATE_ROUNDED;CONTINENT_DERIVED_FROM_COOR...</td>\n",
       "      <td>2023-01-24T15:18:35.527Z</td>\n",
       "      <td>GBR.3.17_1</td>\n",
       "      <td>Highland</td>\n",
       "      <td>GBR.3.17.1_1</td>\n",
       "      <td>Highland</td>\n",
       "    </tr>\n",
       "    <tr>\n",
       "      <th>2</th>\n",
       "      <td>977779462</td>\n",
       "      <td>OBS227814916</td>\n",
       "      <td>EBIRD</td>\n",
       "      <td>obsr221472</td>\n",
       "      <td>NaN</td>\n",
       "      <td>2008-06-04T00:00:00</td>\n",
       "      <td>2008</td>\n",
       "      <td>6</td>\n",
       "      <td>4</td>\n",
       "      <td>Highland</td>\n",
       "      <td>SCO, Nethy River Walks</td>\n",
       "      <td>57.263683</td>\n",
       "      <td>-3.642869</td>\n",
       "      <td>2023-01-24T15:16:23.452Z</td>\n",
       "      <td>CONTINENT_DERIVED_FROM_COORDINATES</td>\n",
       "      <td>2023-01-24T15:16:23.452Z</td>\n",
       "      <td>GBR.3.17_1</td>\n",
       "      <td>Highland</td>\n",
       "      <td>GBR.3.17.1_1</td>\n",
       "      <td>Highland</td>\n",
       "    </tr>\n",
       "    <tr>\n",
       "      <th>3</th>\n",
       "      <td>977697135</td>\n",
       "      <td>OBS227271458</td>\n",
       "      <td>EBIRD</td>\n",
       "      <td>obsr197067</td>\n",
       "      <td>NaN</td>\n",
       "      <td>2012-06-30T00:00:00</td>\n",
       "      <td>2012</td>\n",
       "      <td>6</td>\n",
       "      <td>30</td>\n",
       "      <td>Highland</td>\n",
       "      <td>Abernethy Forest</td>\n",
       "      <td>57.240980</td>\n",
       "      <td>-3.672695</td>\n",
       "      <td>2023-01-24T14:57:19.900Z</td>\n",
       "      <td>COORDINATE_ROUNDED;CONTINENT_DERIVED_FROM_COOR...</td>\n",
       "      <td>2023-01-24T14:57:19.900Z</td>\n",
       "      <td>GBR.3.17_1</td>\n",
       "      <td>Highland</td>\n",
       "      <td>GBR.3.17.1_1</td>\n",
       "      <td>Highland</td>\n",
       "    </tr>\n",
       "    <tr>\n",
       "      <th>4</th>\n",
       "      <td>977694425</td>\n",
       "      <td>OBS227271002</td>\n",
       "      <td>EBIRD</td>\n",
       "      <td>obsr197067</td>\n",
       "      <td>NaN</td>\n",
       "      <td>2012-06-28T00:00:00</td>\n",
       "      <td>2012</td>\n",
       "      <td>6</td>\n",
       "      <td>28</td>\n",
       "      <td>Highland</td>\n",
       "      <td>Loch Garten RSPB Reserve</td>\n",
       "      <td>57.243744</td>\n",
       "      <td>-3.695462</td>\n",
       "      <td>2023-01-24T14:58:55.504Z</td>\n",
       "      <td>COORDINATE_ROUNDED;CONTINENT_DERIVED_FROM_COOR...</td>\n",
       "      <td>2023-01-24T14:58:55.504Z</td>\n",
       "      <td>GBR.3.17_1</td>\n",
       "      <td>Highland</td>\n",
       "      <td>GBR.3.17.1_1</td>\n",
       "      <td>Highland</td>\n",
       "    </tr>\n",
       "  </tbody>\n",
       "</table>\n",
       "</div>"
      ],
      "text/plain": [
       "      gbifID    identifier collectionCode  recordedBy  individualCount  \\\n",
       "0  979787701  OBS241064759          EBIRD  obsr206932              2.0   \n",
       "1  978552557  OBS233681617          EBIRD  obsr113347              4.0   \n",
       "2  977779462  OBS227814916          EBIRD  obsr221472              NaN   \n",
       "3  977697135  OBS227271458          EBIRD  obsr197067              NaN   \n",
       "4  977694425  OBS227271002          EBIRD  obsr197067              NaN   \n",
       "\n",
       "             eventDate  year  month  day    county  \\\n",
       "0  2013-05-31T00:00:00  2013      5   31  Highland   \n",
       "1  1955-07-08T00:00:00  1955      7    8  Highland   \n",
       "2  2008-06-04T00:00:00  2008      6    4  Highland   \n",
       "3  2012-06-30T00:00:00  2012      6   30  Highland   \n",
       "4  2012-06-28T00:00:00  2012      6   28  Highland   \n",
       "\n",
       "                        locality  decimalLatitude  decimalLongitude  \\\n",
       "0                  Rothiemurchus        57.181225         -3.810824   \n",
       "1  Cairngorms NP--Craigmore Wood        57.277557         -3.637161   \n",
       "2         SCO, Nethy River Walks        57.263683         -3.642869   \n",
       "3               Abernethy Forest        57.240980         -3.672695   \n",
       "4       Loch Garten RSPB Reserve        57.243744         -3.695462   \n",
       "\n",
       "            lastInterpreted  \\\n",
       "0  2023-01-24T14:58:22.687Z   \n",
       "1  2023-01-24T15:18:35.527Z   \n",
       "2  2023-01-24T15:16:23.452Z   \n",
       "3  2023-01-24T14:57:19.900Z   \n",
       "4  2023-01-24T14:58:55.504Z   \n",
       "\n",
       "                                               issue  \\\n",
       "0  COORDINATE_ROUNDED;CONTINENT_DERIVED_FROM_COOR...   \n",
       "1  COORDINATE_ROUNDED;CONTINENT_DERIVED_FROM_COOR...   \n",
       "2                 CONTINENT_DERIVED_FROM_COORDINATES   \n",
       "3  COORDINATE_ROUNDED;CONTINENT_DERIVED_FROM_COOR...   \n",
       "4  COORDINATE_ROUNDED;CONTINENT_DERIVED_FROM_COOR...   \n",
       "\n",
       "                 lastParsed   level2Gid level2Name     level3Gid level3Name  \n",
       "0  2023-01-24T14:58:22.687Z  GBR.3.17_1   Highland  GBR.3.17.1_1   Highland  \n",
       "1  2023-01-24T15:18:35.527Z  GBR.3.17_1   Highland  GBR.3.17.1_1   Highland  \n",
       "2  2023-01-24T15:16:23.452Z  GBR.3.17_1   Highland  GBR.3.17.1_1   Highland  \n",
       "3  2023-01-24T14:57:19.900Z  GBR.3.17_1   Highland  GBR.3.17.1_1   Highland  \n",
       "4  2023-01-24T14:58:55.504Z  GBR.3.17_1   Highland  GBR.3.17.1_1   Highland  "
      ]
     },
     "execution_count": 23,
     "metadata": {},
     "output_type": "execute_result"
    }
   ],
   "source": [
    "bird_data.head()"
   ]
  },
  {
   "cell_type": "code",
   "execution_count": 24,
   "id": "8ca81623",
   "metadata": {},
   "outputs": [
    {
     "data": {
      "text/plain": [
       "array(['Highland', 'Aberdeenshire', 'Perthshire and Kinross', 'Moray',\n",
       "       'Angus'], dtype=object)"
      ]
     },
     "execution_count": 24,
     "metadata": {},
     "output_type": "execute_result"
    }
   ],
   "source": [
    "#inspecting more columns\n",
    "bird_data['level3Name'].unique() "
   ]
  },
  {
   "cell_type": "code",
   "execution_count": 25,
   "id": "9f231123",
   "metadata": {},
   "outputs": [
    {
     "data": {
      "text/plain": [
       "True"
      ]
     },
     "execution_count": 25,
     "metadata": {},
     "output_type": "execute_result"
    }
   ],
   "source": [
    "#are county and level3Name columns equal? \n",
    "bird_data['county'].eq(bird_data['level3Name']).all()"
   ]
  },
  {
   "cell_type": "code",
   "execution_count": 26,
   "id": "12a23e5c",
   "metadata": {},
   "outputs": [],
   "source": [
    "#removing 'level2Name' and 'level3Name' since they are the same info as county\n",
    "bird_data = bird_data.drop(['level2Name', 'level3Name'], axis = 1)"
   ]
  },
  {
   "cell_type": "code",
   "execution_count": 27,
   "id": "67bed8c1",
   "metadata": {},
   "outputs": [],
   "source": [
    "#removing 'level2Gid' since it's same info as 'level3Gid'\n",
    "bird_data = bird_data.drop(['level2Gid'], axis = 1)"
   ]
  },
  {
   "cell_type": "code",
   "execution_count": 28,
   "id": "cedee929",
   "metadata": {},
   "outputs": [
    {
     "data": {
      "text/plain": [
       "True"
      ]
     },
     "execution_count": 28,
     "metadata": {},
     "output_type": "execute_result"
    }
   ],
   "source": [
    "#are lastInterpreted and lastParsed columns equal? \n",
    "bird_data['lastInterpreted'].eq(bird_data['lastParsed']).all()"
   ]
  },
  {
   "cell_type": "code",
   "execution_count": 29,
   "id": "e54bf5f1",
   "metadata": {},
   "outputs": [],
   "source": [
    "#drop lastParsed column since it's duplicate\n",
    "bird_data = bird_data.drop(['lastParsed'], axis = 1)"
   ]
  },
  {
   "cell_type": "code",
   "execution_count": 30,
   "id": "f7cf05de",
   "metadata": {
    "scrolled": true
   },
   "outputs": [
    {
     "data": {
      "text/html": [
       "<div>\n",
       "<style scoped>\n",
       "    .dataframe tbody tr th:only-of-type {\n",
       "        vertical-align: middle;\n",
       "    }\n",
       "\n",
       "    .dataframe tbody tr th {\n",
       "        vertical-align: top;\n",
       "    }\n",
       "\n",
       "    .dataframe thead th {\n",
       "        text-align: right;\n",
       "    }\n",
       "</style>\n",
       "<table border=\"1\" class=\"dataframe\">\n",
       "  <thead>\n",
       "    <tr style=\"text-align: right;\">\n",
       "      <th></th>\n",
       "      <th>gbifID</th>\n",
       "      <th>identifier</th>\n",
       "      <th>collectionCode</th>\n",
       "      <th>recordedBy</th>\n",
       "      <th>individualCount</th>\n",
       "      <th>eventDate</th>\n",
       "      <th>year</th>\n",
       "      <th>month</th>\n",
       "      <th>day</th>\n",
       "      <th>county</th>\n",
       "      <th>locality</th>\n",
       "      <th>decimalLatitude</th>\n",
       "      <th>decimalLongitude</th>\n",
       "      <th>lastInterpreted</th>\n",
       "      <th>issue</th>\n",
       "      <th>level3Gid</th>\n",
       "    </tr>\n",
       "  </thead>\n",
       "  <tbody>\n",
       "    <tr>\n",
       "      <th>0</th>\n",
       "      <td>979787701</td>\n",
       "      <td>OBS241064759</td>\n",
       "      <td>EBIRD</td>\n",
       "      <td>obsr206932</td>\n",
       "      <td>2.0</td>\n",
       "      <td>2013-05-31T00:00:00</td>\n",
       "      <td>2013</td>\n",
       "      <td>5</td>\n",
       "      <td>31</td>\n",
       "      <td>Highland</td>\n",
       "      <td>Rothiemurchus</td>\n",
       "      <td>57.181225</td>\n",
       "      <td>-3.810824</td>\n",
       "      <td>2023-01-24T14:58:22.687Z</td>\n",
       "      <td>COORDINATE_ROUNDED;CONTINENT_DERIVED_FROM_COOR...</td>\n",
       "      <td>GBR.3.17.1_1</td>\n",
       "    </tr>\n",
       "    <tr>\n",
       "      <th>1</th>\n",
       "      <td>978552557</td>\n",
       "      <td>OBS233681617</td>\n",
       "      <td>EBIRD</td>\n",
       "      <td>obsr113347</td>\n",
       "      <td>4.0</td>\n",
       "      <td>1955-07-08T00:00:00</td>\n",
       "      <td>1955</td>\n",
       "      <td>7</td>\n",
       "      <td>8</td>\n",
       "      <td>Highland</td>\n",
       "      <td>Cairngorms NP--Craigmore Wood</td>\n",
       "      <td>57.277557</td>\n",
       "      <td>-3.637161</td>\n",
       "      <td>2023-01-24T15:18:35.527Z</td>\n",
       "      <td>COORDINATE_ROUNDED;CONTINENT_DERIVED_FROM_COOR...</td>\n",
       "      <td>GBR.3.17.1_1</td>\n",
       "    </tr>\n",
       "    <tr>\n",
       "      <th>2</th>\n",
       "      <td>977779462</td>\n",
       "      <td>OBS227814916</td>\n",
       "      <td>EBIRD</td>\n",
       "      <td>obsr221472</td>\n",
       "      <td>NaN</td>\n",
       "      <td>2008-06-04T00:00:00</td>\n",
       "      <td>2008</td>\n",
       "      <td>6</td>\n",
       "      <td>4</td>\n",
       "      <td>Highland</td>\n",
       "      <td>SCO, Nethy River Walks</td>\n",
       "      <td>57.263683</td>\n",
       "      <td>-3.642869</td>\n",
       "      <td>2023-01-24T15:16:23.452Z</td>\n",
       "      <td>CONTINENT_DERIVED_FROM_COORDINATES</td>\n",
       "      <td>GBR.3.17.1_1</td>\n",
       "    </tr>\n",
       "    <tr>\n",
       "      <th>3</th>\n",
       "      <td>977697135</td>\n",
       "      <td>OBS227271458</td>\n",
       "      <td>EBIRD</td>\n",
       "      <td>obsr197067</td>\n",
       "      <td>NaN</td>\n",
       "      <td>2012-06-30T00:00:00</td>\n",
       "      <td>2012</td>\n",
       "      <td>6</td>\n",
       "      <td>30</td>\n",
       "      <td>Highland</td>\n",
       "      <td>Abernethy Forest</td>\n",
       "      <td>57.240980</td>\n",
       "      <td>-3.672695</td>\n",
       "      <td>2023-01-24T14:57:19.900Z</td>\n",
       "      <td>COORDINATE_ROUNDED;CONTINENT_DERIVED_FROM_COOR...</td>\n",
       "      <td>GBR.3.17.1_1</td>\n",
       "    </tr>\n",
       "    <tr>\n",
       "      <th>4</th>\n",
       "      <td>977694425</td>\n",
       "      <td>OBS227271002</td>\n",
       "      <td>EBIRD</td>\n",
       "      <td>obsr197067</td>\n",
       "      <td>NaN</td>\n",
       "      <td>2012-06-28T00:00:00</td>\n",
       "      <td>2012</td>\n",
       "      <td>6</td>\n",
       "      <td>28</td>\n",
       "      <td>Highland</td>\n",
       "      <td>Loch Garten RSPB Reserve</td>\n",
       "      <td>57.243744</td>\n",
       "      <td>-3.695462</td>\n",
       "      <td>2023-01-24T14:58:55.504Z</td>\n",
       "      <td>COORDINATE_ROUNDED;CONTINENT_DERIVED_FROM_COOR...</td>\n",
       "      <td>GBR.3.17.1_1</td>\n",
       "    </tr>\n",
       "  </tbody>\n",
       "</table>\n",
       "</div>"
      ],
      "text/plain": [
       "      gbifID    identifier collectionCode  recordedBy  individualCount  \\\n",
       "0  979787701  OBS241064759          EBIRD  obsr206932              2.0   \n",
       "1  978552557  OBS233681617          EBIRD  obsr113347              4.0   \n",
       "2  977779462  OBS227814916          EBIRD  obsr221472              NaN   \n",
       "3  977697135  OBS227271458          EBIRD  obsr197067              NaN   \n",
       "4  977694425  OBS227271002          EBIRD  obsr197067              NaN   \n",
       "\n",
       "             eventDate  year  month  day    county  \\\n",
       "0  2013-05-31T00:00:00  2013      5   31  Highland   \n",
       "1  1955-07-08T00:00:00  1955      7    8  Highland   \n",
       "2  2008-06-04T00:00:00  2008      6    4  Highland   \n",
       "3  2012-06-30T00:00:00  2012      6   30  Highland   \n",
       "4  2012-06-28T00:00:00  2012      6   28  Highland   \n",
       "\n",
       "                        locality  decimalLatitude  decimalLongitude  \\\n",
       "0                  Rothiemurchus        57.181225         -3.810824   \n",
       "1  Cairngorms NP--Craigmore Wood        57.277557         -3.637161   \n",
       "2         SCO, Nethy River Walks        57.263683         -3.642869   \n",
       "3               Abernethy Forest        57.240980         -3.672695   \n",
       "4       Loch Garten RSPB Reserve        57.243744         -3.695462   \n",
       "\n",
       "            lastInterpreted  \\\n",
       "0  2023-01-24T14:58:22.687Z   \n",
       "1  2023-01-24T15:18:35.527Z   \n",
       "2  2023-01-24T15:16:23.452Z   \n",
       "3  2023-01-24T14:57:19.900Z   \n",
       "4  2023-01-24T14:58:55.504Z   \n",
       "\n",
       "                                               issue     level3Gid  \n",
       "0  COORDINATE_ROUNDED;CONTINENT_DERIVED_FROM_COOR...  GBR.3.17.1_1  \n",
       "1  COORDINATE_ROUNDED;CONTINENT_DERIVED_FROM_COOR...  GBR.3.17.1_1  \n",
       "2                 CONTINENT_DERIVED_FROM_COORDINATES  GBR.3.17.1_1  \n",
       "3  COORDINATE_ROUNDED;CONTINENT_DERIVED_FROM_COOR...  GBR.3.17.1_1  \n",
       "4  COORDINATE_ROUNDED;CONTINENT_DERIVED_FROM_COOR...  GBR.3.17.1_1  "
      ]
     },
     "execution_count": 30,
     "metadata": {},
     "output_type": "execute_result"
    }
   ],
   "source": [
    "bird_data.head()"
   ]
  },
  {
   "cell_type": "code",
   "execution_count": 32,
   "id": "4ee10fff",
   "metadata": {},
   "outputs": [
    {
     "name": "stdout",
     "output_type": "stream",
     "text": [
      "<class 'pandas.core.frame.DataFrame'>\n",
      "Int64Index: 814 entries, 0 to 813\n",
      "Data columns (total 16 columns):\n",
      " #   Column            Non-Null Count  Dtype  \n",
      "---  ------            --------------  -----  \n",
      " 0   gbifID            814 non-null    int64  \n",
      " 1   identifier        814 non-null    object \n",
      " 2   collectionCode    814 non-null    object \n",
      " 3   recordedBy        814 non-null    object \n",
      " 4   individualCount   635 non-null    float64\n",
      " 5   eventDate         814 non-null    object \n",
      " 6   year              814 non-null    int64  \n",
      " 7   month             814 non-null    int64  \n",
      " 8   day               814 non-null    int64  \n",
      " 9   county            814 non-null    object \n",
      " 10  locality          814 non-null    object \n",
      " 11  decimalLatitude   814 non-null    float64\n",
      " 12  decimalLongitude  814 non-null    float64\n",
      " 13  lastInterpreted   814 non-null    object \n",
      " 14  issue             814 non-null    object \n",
      " 15  level3Gid         814 non-null    object \n",
      "dtypes: float64(3), int64(4), object(9)\n",
      "memory usage: 108.1+ KB\n"
     ]
    }
   ],
   "source": [
    "bird_data.info()"
   ]
  },
  {
   "cell_type": "code",
   "execution_count": 33,
   "id": "a9a0a5ae",
   "metadata": {},
   "outputs": [
    {
     "data": {
      "text/plain": [
       "array([ 2.,  4., nan,  3.,  7., 18., 11., 30., 19.,  1., 14., 34.,  8.,\n",
       "        6., 24.,  5., 10., 16., 15., 12., 25., 20.,  9., 55., 60., 13.])"
      ]
     },
     "execution_count": 33,
     "metadata": {},
     "output_type": "execute_result"
    }
   ],
   "source": [
    "bird_data['individualCount'].unique()"
   ]
  },
  {
   "cell_type": "markdown",
   "id": "26bf35f5",
   "metadata": {},
   "source": [
    "** I'd like to find out more about \"individualCount\". Is that a count of how many individual birds were spotted during that observation? If so, what do NaNs mean? **"
   ]
  },
  {
   "cell_type": "code",
   "execution_count": 38,
   "id": "46d09b6e",
   "metadata": {},
   "outputs": [
    {
     "data": {
      "text/plain": [
       "array([2013, 1955, 2008, 2012, 1984, 1993, 1994, 2006, 1995, 2004, 2001,\n",
       "       1991, 1990, 1989, 1985, 1978, 1988, 1997, 1982, 2003, 2000, 1999,\n",
       "       1996, 1979, 2011, 2010, 1987, 1986, 1983, 2021, 1975, 1966, 2019,\n",
       "       1971, 2017, 2016, 2020, 2018, 2015, 2014, 1992, 1998, 2005, 2002,\n",
       "       1980, 2009, 2007, 1969, 1977, 1976, 1981, 1974, 1973, 1970, 1967])"
      ]
     },
     "execution_count": 38,
     "metadata": {},
     "output_type": "execute_result"
    }
   ],
   "source": [
    "#all years contained\n",
    "bird_data.year.unique()"
   ]
  },
  {
   "cell_type": "code",
   "execution_count": 43,
   "id": "f87bc833",
   "metadata": {},
   "outputs": [],
   "source": [
    "#bird_data split by decade\n",
    "birds_70s = bird_data[(bird_data['year'] >= 1970) & (bird_data['year'] <1980)]\n",
    "birds_80s = bird_data[(bird_data['year'] >= 1980) & (bird_data['year'] <1990)]\n",
    "birds_90s = bird_data[(bird_data['year'] >= 1990) & (bird_data['year'] <2000)]\n",
    "birds_00s = bird_data[(bird_data['year'] >= 2000) & (bird_data['year'] <2010)]\n",
    "birds_10s = bird_data[(bird_data['year'] >= 2010) & (bird_data['year'] <2020)]"
   ]
  },
  {
   "cell_type": "code",
   "execution_count": 61,
   "id": "29c41888",
   "metadata": {
    "scrolled": true
   },
   "outputs": [
    {
     "data": {
      "application/vnd.plotly.v1+json": {
       "config": {
        "plotlyServerURL": "https://plot.ly"
       },
       "data": [
        {
         "lat": [
          57.15242,
          57.230846,
          57.09556,
          57.243744,
          57.243744,
          57.243744,
          57.23882,
          57.249973,
          57.163353,
          57.07288,
          57.051014,
          57.234848,
          57.17492,
          56.99022,
          57.086105,
          57.167713,
          57.243744,
          57.16122,
          57.163353,
          57.163353,
          57.18,
          57.16122,
          57.163353,
          57.243744,
          57.11425,
          57.15772,
          57.243744,
          57.63049,
          57.243744,
          57.146545,
          57.170788,
          57.243744,
          57.146545,
          57.09556,
          57.1368,
          57.1484,
          57.1484,
          57.1748,
          57.1636
         ],
         "lon": [
          -3.821397,
          -3.70211,
          -3.777924,
          -3.695462,
          -3.695462,
          -3.695462,
          -3.712113,
          -3.751718,
          -3.712835,
          -3.7769,
          -3.556947,
          -3.801033,
          -3.816268,
          -3.543434,
          -3.931407,
          -3.692922,
          -3.695462,
          -3.682799,
          -3.712835,
          -3.712835,
          -3.82,
          -3.682799,
          -3.712835,
          -3.695462,
          -3.756981,
          -3.76321,
          -3.695462,
          -3.714781,
          -3.695462,
          -3.824111,
          -3.809552,
          -3.695462,
          -3.824111,
          -3.777924,
          -3.7424,
          -3.7742,
          -3.7742,
          -3.7996,
          -3.7127
         ],
         "marker": {
          "autocolorscale": false,
          "cmin": 0,
          "colorscale": [
           [
            0,
            "rgb(247,251,255)"
           ],
           [
            0.125,
            "rgb(222,235,247)"
           ],
           [
            0.25,
            "rgb(198,219,239)"
           ],
           [
            0.375,
            "rgb(158,202,225)"
           ],
           [
            0.5,
            "rgb(107,174,214)"
           ],
           [
            0.625,
            "rgb(66,146,198)"
           ],
           [
            0.75,
            "rgb(33,113,181)"
           ],
           [
            0.875,
            "rgb(8,81,156)"
           ],
           [
            1,
            "rgb(8,48,107)"
           ]
          ],
          "line": {
           "color": "rgba(102, 102, 102)",
           "width": 1
          },
          "opacity": 0.8,
          "reversescale": true,
          "size": 8,
          "symbol": "square"
         },
         "mode": "markers",
         "type": "scattergeo"
        }
       ],
       "layout": {
        "autosize": true,
        "geo": {
         "center": {
          "lat": 57.22947380712531,
          "lon": -3.755092620393134
         },
         "countrycolor": "Black",
         "countrywidth": 0.5,
         "landcolor": "rgb(250, 250, 250)",
         "projection": {
          "scale": 6,
          "type": "albers"
         },
         "resolution": 110,
         "scope": "europe",
         "showcountries": true,
         "showland": true,
         "showsubunits": true,
         "subunitcolor": "Blue",
         "subunitwidth": 0.5,
         "visible": false
        },
        "height": 600,
        "template": {
         "data": {
          "bar": [
           {
            "error_x": {
             "color": "#2a3f5f"
            },
            "error_y": {
             "color": "#2a3f5f"
            },
            "marker": {
             "line": {
              "color": "#E5ECF6",
              "width": 0.5
             },
             "pattern": {
              "fillmode": "overlay",
              "size": 10,
              "solidity": 0.2
             }
            },
            "type": "bar"
           }
          ],
          "barpolar": [
           {
            "marker": {
             "line": {
              "color": "#E5ECF6",
              "width": 0.5
             },
             "pattern": {
              "fillmode": "overlay",
              "size": 10,
              "solidity": 0.2
             }
            },
            "type": "barpolar"
           }
          ],
          "carpet": [
           {
            "aaxis": {
             "endlinecolor": "#2a3f5f",
             "gridcolor": "white",
             "linecolor": "white",
             "minorgridcolor": "white",
             "startlinecolor": "#2a3f5f"
            },
            "baxis": {
             "endlinecolor": "#2a3f5f",
             "gridcolor": "white",
             "linecolor": "white",
             "minorgridcolor": "white",
             "startlinecolor": "#2a3f5f"
            },
            "type": "carpet"
           }
          ],
          "choropleth": [
           {
            "colorbar": {
             "outlinewidth": 0,
             "ticks": ""
            },
            "type": "choropleth"
           }
          ],
          "contour": [
           {
            "colorbar": {
             "outlinewidth": 0,
             "ticks": ""
            },
            "colorscale": [
             [
              0,
              "#0d0887"
             ],
             [
              0.1111111111111111,
              "#46039f"
             ],
             [
              0.2222222222222222,
              "#7201a8"
             ],
             [
              0.3333333333333333,
              "#9c179e"
             ],
             [
              0.4444444444444444,
              "#bd3786"
             ],
             [
              0.5555555555555556,
              "#d8576b"
             ],
             [
              0.6666666666666666,
              "#ed7953"
             ],
             [
              0.7777777777777778,
              "#fb9f3a"
             ],
             [
              0.8888888888888888,
              "#fdca26"
             ],
             [
              1,
              "#f0f921"
             ]
            ],
            "type": "contour"
           }
          ],
          "contourcarpet": [
           {
            "colorbar": {
             "outlinewidth": 0,
             "ticks": ""
            },
            "type": "contourcarpet"
           }
          ],
          "heatmap": [
           {
            "colorbar": {
             "outlinewidth": 0,
             "ticks": ""
            },
            "colorscale": [
             [
              0,
              "#0d0887"
             ],
             [
              0.1111111111111111,
              "#46039f"
             ],
             [
              0.2222222222222222,
              "#7201a8"
             ],
             [
              0.3333333333333333,
              "#9c179e"
             ],
             [
              0.4444444444444444,
              "#bd3786"
             ],
             [
              0.5555555555555556,
              "#d8576b"
             ],
             [
              0.6666666666666666,
              "#ed7953"
             ],
             [
              0.7777777777777778,
              "#fb9f3a"
             ],
             [
              0.8888888888888888,
              "#fdca26"
             ],
             [
              1,
              "#f0f921"
             ]
            ],
            "type": "heatmap"
           }
          ],
          "heatmapgl": [
           {
            "colorbar": {
             "outlinewidth": 0,
             "ticks": ""
            },
            "colorscale": [
             [
              0,
              "#0d0887"
             ],
             [
              0.1111111111111111,
              "#46039f"
             ],
             [
              0.2222222222222222,
              "#7201a8"
             ],
             [
              0.3333333333333333,
              "#9c179e"
             ],
             [
              0.4444444444444444,
              "#bd3786"
             ],
             [
              0.5555555555555556,
              "#d8576b"
             ],
             [
              0.6666666666666666,
              "#ed7953"
             ],
             [
              0.7777777777777778,
              "#fb9f3a"
             ],
             [
              0.8888888888888888,
              "#fdca26"
             ],
             [
              1,
              "#f0f921"
             ]
            ],
            "type": "heatmapgl"
           }
          ],
          "histogram": [
           {
            "marker": {
             "pattern": {
              "fillmode": "overlay",
              "size": 10,
              "solidity": 0.2
             }
            },
            "type": "histogram"
           }
          ],
          "histogram2d": [
           {
            "colorbar": {
             "outlinewidth": 0,
             "ticks": ""
            },
            "colorscale": [
             [
              0,
              "#0d0887"
             ],
             [
              0.1111111111111111,
              "#46039f"
             ],
             [
              0.2222222222222222,
              "#7201a8"
             ],
             [
              0.3333333333333333,
              "#9c179e"
             ],
             [
              0.4444444444444444,
              "#bd3786"
             ],
             [
              0.5555555555555556,
              "#d8576b"
             ],
             [
              0.6666666666666666,
              "#ed7953"
             ],
             [
              0.7777777777777778,
              "#fb9f3a"
             ],
             [
              0.8888888888888888,
              "#fdca26"
             ],
             [
              1,
              "#f0f921"
             ]
            ],
            "type": "histogram2d"
           }
          ],
          "histogram2dcontour": [
           {
            "colorbar": {
             "outlinewidth": 0,
             "ticks": ""
            },
            "colorscale": [
             [
              0,
              "#0d0887"
             ],
             [
              0.1111111111111111,
              "#46039f"
             ],
             [
              0.2222222222222222,
              "#7201a8"
             ],
             [
              0.3333333333333333,
              "#9c179e"
             ],
             [
              0.4444444444444444,
              "#bd3786"
             ],
             [
              0.5555555555555556,
              "#d8576b"
             ],
             [
              0.6666666666666666,
              "#ed7953"
             ],
             [
              0.7777777777777778,
              "#fb9f3a"
             ],
             [
              0.8888888888888888,
              "#fdca26"
             ],
             [
              1,
              "#f0f921"
             ]
            ],
            "type": "histogram2dcontour"
           }
          ],
          "mesh3d": [
           {
            "colorbar": {
             "outlinewidth": 0,
             "ticks": ""
            },
            "type": "mesh3d"
           }
          ],
          "parcoords": [
           {
            "line": {
             "colorbar": {
              "outlinewidth": 0,
              "ticks": ""
             }
            },
            "type": "parcoords"
           }
          ],
          "pie": [
           {
            "automargin": true,
            "type": "pie"
           }
          ],
          "scatter": [
           {
            "marker": {
             "colorbar": {
              "outlinewidth": 0,
              "ticks": ""
             }
            },
            "type": "scatter"
           }
          ],
          "scatter3d": [
           {
            "line": {
             "colorbar": {
              "outlinewidth": 0,
              "ticks": ""
             }
            },
            "marker": {
             "colorbar": {
              "outlinewidth": 0,
              "ticks": ""
             }
            },
            "type": "scatter3d"
           }
          ],
          "scattercarpet": [
           {
            "marker": {
             "colorbar": {
              "outlinewidth": 0,
              "ticks": ""
             }
            },
            "type": "scattercarpet"
           }
          ],
          "scattergeo": [
           {
            "marker": {
             "colorbar": {
              "outlinewidth": 0,
              "ticks": ""
             }
            },
            "type": "scattergeo"
           }
          ],
          "scattergl": [
           {
            "marker": {
             "colorbar": {
              "outlinewidth": 0,
              "ticks": ""
             }
            },
            "type": "scattergl"
           }
          ],
          "scattermapbox": [
           {
            "marker": {
             "colorbar": {
              "outlinewidth": 0,
              "ticks": ""
             }
            },
            "type": "scattermapbox"
           }
          ],
          "scatterpolar": [
           {
            "marker": {
             "colorbar": {
              "outlinewidth": 0,
              "ticks": ""
             }
            },
            "type": "scatterpolar"
           }
          ],
          "scatterpolargl": [
           {
            "marker": {
             "colorbar": {
              "outlinewidth": 0,
              "ticks": ""
             }
            },
            "type": "scatterpolargl"
           }
          ],
          "scatterternary": [
           {
            "marker": {
             "colorbar": {
              "outlinewidth": 0,
              "ticks": ""
             }
            },
            "type": "scatterternary"
           }
          ],
          "surface": [
           {
            "colorbar": {
             "outlinewidth": 0,
             "ticks": ""
            },
            "colorscale": [
             [
              0,
              "#0d0887"
             ],
             [
              0.1111111111111111,
              "#46039f"
             ],
             [
              0.2222222222222222,
              "#7201a8"
             ],
             [
              0.3333333333333333,
              "#9c179e"
             ],
             [
              0.4444444444444444,
              "#bd3786"
             ],
             [
              0.5555555555555556,
              "#d8576b"
             ],
             [
              0.6666666666666666,
              "#ed7953"
             ],
             [
              0.7777777777777778,
              "#fb9f3a"
             ],
             [
              0.8888888888888888,
              "#fdca26"
             ],
             [
              1,
              "#f0f921"
             ]
            ],
            "type": "surface"
           }
          ],
          "table": [
           {
            "cells": {
             "fill": {
              "color": "#EBF0F8"
             },
             "line": {
              "color": "white"
             }
            },
            "header": {
             "fill": {
              "color": "#C8D4E3"
             },
             "line": {
              "color": "white"
             }
            },
            "type": "table"
           }
          ]
         },
         "layout": {
          "annotationdefaults": {
           "arrowcolor": "#2a3f5f",
           "arrowhead": 0,
           "arrowwidth": 1
          },
          "autotypenumbers": "strict",
          "coloraxis": {
           "colorbar": {
            "outlinewidth": 0,
            "ticks": ""
           }
          },
          "colorscale": {
           "diverging": [
            [
             0,
             "#8e0152"
            ],
            [
             0.1,
             "#c51b7d"
            ],
            [
             0.2,
             "#de77ae"
            ],
            [
             0.3,
             "#f1b6da"
            ],
            [
             0.4,
             "#fde0ef"
            ],
            [
             0.5,
             "#f7f7f7"
            ],
            [
             0.6,
             "#e6f5d0"
            ],
            [
             0.7,
             "#b8e186"
            ],
            [
             0.8,
             "#7fbc41"
            ],
            [
             0.9,
             "#4d9221"
            ],
            [
             1,
             "#276419"
            ]
           ],
           "sequential": [
            [
             0,
             "#0d0887"
            ],
            [
             0.1111111111111111,
             "#46039f"
            ],
            [
             0.2222222222222222,
             "#7201a8"
            ],
            [
             0.3333333333333333,
             "#9c179e"
            ],
            [
             0.4444444444444444,
             "#bd3786"
            ],
            [
             0.5555555555555556,
             "#d8576b"
            ],
            [
             0.6666666666666666,
             "#ed7953"
            ],
            [
             0.7777777777777778,
             "#fb9f3a"
            ],
            [
             0.8888888888888888,
             "#fdca26"
            ],
            [
             1,
             "#f0f921"
            ]
           ],
           "sequentialminus": [
            [
             0,
             "#0d0887"
            ],
            [
             0.1111111111111111,
             "#46039f"
            ],
            [
             0.2222222222222222,
             "#7201a8"
            ],
            [
             0.3333333333333333,
             "#9c179e"
            ],
            [
             0.4444444444444444,
             "#bd3786"
            ],
            [
             0.5555555555555556,
             "#d8576b"
            ],
            [
             0.6666666666666666,
             "#ed7953"
            ],
            [
             0.7777777777777778,
             "#fb9f3a"
            ],
            [
             0.8888888888888888,
             "#fdca26"
            ],
            [
             1,
             "#f0f921"
            ]
           ]
          },
          "colorway": [
           "#636efa",
           "#EF553B",
           "#00cc96",
           "#ab63fa",
           "#FFA15A",
           "#19d3f3",
           "#FF6692",
           "#B6E880",
           "#FF97FF",
           "#FECB52"
          ],
          "font": {
           "color": "#2a3f5f"
          },
          "geo": {
           "bgcolor": "white",
           "lakecolor": "white",
           "landcolor": "#E5ECF6",
           "showlakes": true,
           "showland": true,
           "subunitcolor": "white"
          },
          "hoverlabel": {
           "align": "left"
          },
          "hovermode": "closest",
          "mapbox": {
           "style": "light"
          },
          "paper_bgcolor": "white",
          "plot_bgcolor": "#E5ECF6",
          "polar": {
           "angularaxis": {
            "gridcolor": "white",
            "linecolor": "white",
            "ticks": ""
           },
           "bgcolor": "#E5ECF6",
           "radialaxis": {
            "gridcolor": "white",
            "linecolor": "white",
            "ticks": ""
           }
          },
          "scene": {
           "xaxis": {
            "backgroundcolor": "#E5ECF6",
            "gridcolor": "white",
            "gridwidth": 2,
            "linecolor": "white",
            "showbackground": true,
            "ticks": "",
            "zerolinecolor": "white"
           },
           "yaxis": {
            "backgroundcolor": "#E5ECF6",
            "gridcolor": "white",
            "gridwidth": 2,
            "linecolor": "white",
            "showbackground": true,
            "ticks": "",
            "zerolinecolor": "white"
           },
           "zaxis": {
            "backgroundcolor": "#E5ECF6",
            "gridcolor": "white",
            "gridwidth": 2,
            "linecolor": "white",
            "showbackground": true,
            "ticks": "",
            "zerolinecolor": "white"
           }
          },
          "shapedefaults": {
           "line": {
            "color": "#2a3f5f"
           }
          },
          "ternary": {
           "aaxis": {
            "gridcolor": "white",
            "linecolor": "white",
            "ticks": ""
           },
           "baxis": {
            "gridcolor": "white",
            "linecolor": "white",
            "ticks": ""
           },
           "bgcolor": "#E5ECF6",
           "caxis": {
            "gridcolor": "white",
            "linecolor": "white",
            "ticks": ""
           }
          },
          "title": {
           "x": 0.05
          },
          "xaxis": {
           "automargin": true,
           "gridcolor": "white",
           "linecolor": "white",
           "ticks": "",
           "title": {
            "standoff": 15
           },
           "zerolinecolor": "white",
           "zerolinewidth": 2
          },
          "yaxis": {
           "automargin": true,
           "gridcolor": "white",
           "linecolor": "white",
           "ticks": "",
           "title": {
            "standoff": 15
           },
           "zerolinecolor": "white",
           "zerolinewidth": 2
          }
         }
        },
        "title": {
         "text": "Bird Sightings 1970s<br>(Hover for latitude/longitude)"
        }
       }
      },
      "text/html": [
       "<div>                            <div id=\"02d0910e-3ab1-4714-b972-2997a9610a0f\" class=\"plotly-graph-div\" style=\"height:600px; width:100%;\"></div>            <script type=\"text/javascript\">                require([\"plotly\"], function(Plotly) {                    window.PLOTLYENV=window.PLOTLYENV || {};                                    if (document.getElementById(\"02d0910e-3ab1-4714-b972-2997a9610a0f\")) {                    Plotly.newPlot(                        \"02d0910e-3ab1-4714-b972-2997a9610a0f\",                        [{\"lat\":[57.15242,57.230846,57.09556,57.243744,57.243744,57.243744,57.23882,57.249973,57.163353,57.07288,57.051014,57.234848,57.17492,56.99022,57.086105,57.167713,57.243744,57.16122,57.163353,57.163353,57.18,57.16122,57.163353,57.243744,57.11425,57.15772,57.243744,57.63049,57.243744,57.146545,57.170788,57.243744,57.146545,57.09556,57.1368,57.1484,57.1484,57.1748,57.1636],\"lon\":[-3.821397,-3.70211,-3.777924,-3.695462,-3.695462,-3.695462,-3.712113,-3.751718,-3.712835,-3.7769,-3.556947,-3.801033,-3.816268,-3.543434,-3.931407,-3.692922,-3.695462,-3.682799,-3.712835,-3.712835,-3.82,-3.682799,-3.712835,-3.695462,-3.756981,-3.76321,-3.695462,-3.714781,-3.695462,-3.824111,-3.809552,-3.695462,-3.824111,-3.777924,-3.7424,-3.7742,-3.7742,-3.7996,-3.7127],\"marker\":{\"autocolorscale\":false,\"cmin\":0,\"colorscale\":[[0.0,\"rgb(247,251,255)\"],[0.125,\"rgb(222,235,247)\"],[0.25,\"rgb(198,219,239)\"],[0.375,\"rgb(158,202,225)\"],[0.5,\"rgb(107,174,214)\"],[0.625,\"rgb(66,146,198)\"],[0.75,\"rgb(33,113,181)\"],[0.875,\"rgb(8,81,156)\"],[1.0,\"rgb(8,48,107)\"]],\"line\":{\"color\":\"rgba(102, 102, 102)\",\"width\":1},\"opacity\":0.8,\"reversescale\":true,\"size\":8,\"symbol\":\"square\"},\"mode\":\"markers\",\"type\":\"scattergeo\"}],                        {\"template\":{\"data\":{\"bar\":[{\"error_x\":{\"color\":\"#2a3f5f\"},\"error_y\":{\"color\":\"#2a3f5f\"},\"marker\":{\"line\":{\"color\":\"#E5ECF6\",\"width\":0.5},\"pattern\":{\"fillmode\":\"overlay\",\"size\":10,\"solidity\":0.2}},\"type\":\"bar\"}],\"barpolar\":[{\"marker\":{\"line\":{\"color\":\"#E5ECF6\",\"width\":0.5},\"pattern\":{\"fillmode\":\"overlay\",\"size\":10,\"solidity\":0.2}},\"type\":\"barpolar\"}],\"carpet\":[{\"aaxis\":{\"endlinecolor\":\"#2a3f5f\",\"gridcolor\":\"white\",\"linecolor\":\"white\",\"minorgridcolor\":\"white\",\"startlinecolor\":\"#2a3f5f\"},\"baxis\":{\"endlinecolor\":\"#2a3f5f\",\"gridcolor\":\"white\",\"linecolor\":\"white\",\"minorgridcolor\":\"white\",\"startlinecolor\":\"#2a3f5f\"},\"type\":\"carpet\"}],\"choropleth\":[{\"colorbar\":{\"outlinewidth\":0,\"ticks\":\"\"},\"type\":\"choropleth\"}],\"contour\":[{\"colorbar\":{\"outlinewidth\":0,\"ticks\":\"\"},\"colorscale\":[[0.0,\"#0d0887\"],[0.1111111111111111,\"#46039f\"],[0.2222222222222222,\"#7201a8\"],[0.3333333333333333,\"#9c179e\"],[0.4444444444444444,\"#bd3786\"],[0.5555555555555556,\"#d8576b\"],[0.6666666666666666,\"#ed7953\"],[0.7777777777777778,\"#fb9f3a\"],[0.8888888888888888,\"#fdca26\"],[1.0,\"#f0f921\"]],\"type\":\"contour\"}],\"contourcarpet\":[{\"colorbar\":{\"outlinewidth\":0,\"ticks\":\"\"},\"type\":\"contourcarpet\"}],\"heatmap\":[{\"colorbar\":{\"outlinewidth\":0,\"ticks\":\"\"},\"colorscale\":[[0.0,\"#0d0887\"],[0.1111111111111111,\"#46039f\"],[0.2222222222222222,\"#7201a8\"],[0.3333333333333333,\"#9c179e\"],[0.4444444444444444,\"#bd3786\"],[0.5555555555555556,\"#d8576b\"],[0.6666666666666666,\"#ed7953\"],[0.7777777777777778,\"#fb9f3a\"],[0.8888888888888888,\"#fdca26\"],[1.0,\"#f0f921\"]],\"type\":\"heatmap\"}],\"heatmapgl\":[{\"colorbar\":{\"outlinewidth\":0,\"ticks\":\"\"},\"colorscale\":[[0.0,\"#0d0887\"],[0.1111111111111111,\"#46039f\"],[0.2222222222222222,\"#7201a8\"],[0.3333333333333333,\"#9c179e\"],[0.4444444444444444,\"#bd3786\"],[0.5555555555555556,\"#d8576b\"],[0.6666666666666666,\"#ed7953\"],[0.7777777777777778,\"#fb9f3a\"],[0.8888888888888888,\"#fdca26\"],[1.0,\"#f0f921\"]],\"type\":\"heatmapgl\"}],\"histogram\":[{\"marker\":{\"pattern\":{\"fillmode\":\"overlay\",\"size\":10,\"solidity\":0.2}},\"type\":\"histogram\"}],\"histogram2d\":[{\"colorbar\":{\"outlinewidth\":0,\"ticks\":\"\"},\"colorscale\":[[0.0,\"#0d0887\"],[0.1111111111111111,\"#46039f\"],[0.2222222222222222,\"#7201a8\"],[0.3333333333333333,\"#9c179e\"],[0.4444444444444444,\"#bd3786\"],[0.5555555555555556,\"#d8576b\"],[0.6666666666666666,\"#ed7953\"],[0.7777777777777778,\"#fb9f3a\"],[0.8888888888888888,\"#fdca26\"],[1.0,\"#f0f921\"]],\"type\":\"histogram2d\"}],\"histogram2dcontour\":[{\"colorbar\":{\"outlinewidth\":0,\"ticks\":\"\"},\"colorscale\":[[0.0,\"#0d0887\"],[0.1111111111111111,\"#46039f\"],[0.2222222222222222,\"#7201a8\"],[0.3333333333333333,\"#9c179e\"],[0.4444444444444444,\"#bd3786\"],[0.5555555555555556,\"#d8576b\"],[0.6666666666666666,\"#ed7953\"],[0.7777777777777778,\"#fb9f3a\"],[0.8888888888888888,\"#fdca26\"],[1.0,\"#f0f921\"]],\"type\":\"histogram2dcontour\"}],\"mesh3d\":[{\"colorbar\":{\"outlinewidth\":0,\"ticks\":\"\"},\"type\":\"mesh3d\"}],\"parcoords\":[{\"line\":{\"colorbar\":{\"outlinewidth\":0,\"ticks\":\"\"}},\"type\":\"parcoords\"}],\"pie\":[{\"automargin\":true,\"type\":\"pie\"}],\"scatter\":[{\"marker\":{\"colorbar\":{\"outlinewidth\":0,\"ticks\":\"\"}},\"type\":\"scatter\"}],\"scatter3d\":[{\"line\":{\"colorbar\":{\"outlinewidth\":0,\"ticks\":\"\"}},\"marker\":{\"colorbar\":{\"outlinewidth\":0,\"ticks\":\"\"}},\"type\":\"scatter3d\"}],\"scattercarpet\":[{\"marker\":{\"colorbar\":{\"outlinewidth\":0,\"ticks\":\"\"}},\"type\":\"scattercarpet\"}],\"scattergeo\":[{\"marker\":{\"colorbar\":{\"outlinewidth\":0,\"ticks\":\"\"}},\"type\":\"scattergeo\"}],\"scattergl\":[{\"marker\":{\"colorbar\":{\"outlinewidth\":0,\"ticks\":\"\"}},\"type\":\"scattergl\"}],\"scattermapbox\":[{\"marker\":{\"colorbar\":{\"outlinewidth\":0,\"ticks\":\"\"}},\"type\":\"scattermapbox\"}],\"scatterpolar\":[{\"marker\":{\"colorbar\":{\"outlinewidth\":0,\"ticks\":\"\"}},\"type\":\"scatterpolar\"}],\"scatterpolargl\":[{\"marker\":{\"colorbar\":{\"outlinewidth\":0,\"ticks\":\"\"}},\"type\":\"scatterpolargl\"}],\"scatterternary\":[{\"marker\":{\"colorbar\":{\"outlinewidth\":0,\"ticks\":\"\"}},\"type\":\"scatterternary\"}],\"surface\":[{\"colorbar\":{\"outlinewidth\":0,\"ticks\":\"\"},\"colorscale\":[[0.0,\"#0d0887\"],[0.1111111111111111,\"#46039f\"],[0.2222222222222222,\"#7201a8\"],[0.3333333333333333,\"#9c179e\"],[0.4444444444444444,\"#bd3786\"],[0.5555555555555556,\"#d8576b\"],[0.6666666666666666,\"#ed7953\"],[0.7777777777777778,\"#fb9f3a\"],[0.8888888888888888,\"#fdca26\"],[1.0,\"#f0f921\"]],\"type\":\"surface\"}],\"table\":[{\"cells\":{\"fill\":{\"color\":\"#EBF0F8\"},\"line\":{\"color\":\"white\"}},\"header\":{\"fill\":{\"color\":\"#C8D4E3\"},\"line\":{\"color\":\"white\"}},\"type\":\"table\"}]},\"layout\":{\"annotationdefaults\":{\"arrowcolor\":\"#2a3f5f\",\"arrowhead\":0,\"arrowwidth\":1},\"autotypenumbers\":\"strict\",\"coloraxis\":{\"colorbar\":{\"outlinewidth\":0,\"ticks\":\"\"}},\"colorscale\":{\"diverging\":[[0,\"#8e0152\"],[0.1,\"#c51b7d\"],[0.2,\"#de77ae\"],[0.3,\"#f1b6da\"],[0.4,\"#fde0ef\"],[0.5,\"#f7f7f7\"],[0.6,\"#e6f5d0\"],[0.7,\"#b8e186\"],[0.8,\"#7fbc41\"],[0.9,\"#4d9221\"],[1,\"#276419\"]],\"sequential\":[[0.0,\"#0d0887\"],[0.1111111111111111,\"#46039f\"],[0.2222222222222222,\"#7201a8\"],[0.3333333333333333,\"#9c179e\"],[0.4444444444444444,\"#bd3786\"],[0.5555555555555556,\"#d8576b\"],[0.6666666666666666,\"#ed7953\"],[0.7777777777777778,\"#fb9f3a\"],[0.8888888888888888,\"#fdca26\"],[1.0,\"#f0f921\"]],\"sequentialminus\":[[0.0,\"#0d0887\"],[0.1111111111111111,\"#46039f\"],[0.2222222222222222,\"#7201a8\"],[0.3333333333333333,\"#9c179e\"],[0.4444444444444444,\"#bd3786\"],[0.5555555555555556,\"#d8576b\"],[0.6666666666666666,\"#ed7953\"],[0.7777777777777778,\"#fb9f3a\"],[0.8888888888888888,\"#fdca26\"],[1.0,\"#f0f921\"]]},\"colorway\":[\"#636efa\",\"#EF553B\",\"#00cc96\",\"#ab63fa\",\"#FFA15A\",\"#19d3f3\",\"#FF6692\",\"#B6E880\",\"#FF97FF\",\"#FECB52\"],\"font\":{\"color\":\"#2a3f5f\"},\"geo\":{\"bgcolor\":\"white\",\"lakecolor\":\"white\",\"landcolor\":\"#E5ECF6\",\"showlakes\":true,\"showland\":true,\"subunitcolor\":\"white\"},\"hoverlabel\":{\"align\":\"left\"},\"hovermode\":\"closest\",\"mapbox\":{\"style\":\"light\"},\"paper_bgcolor\":\"white\",\"plot_bgcolor\":\"#E5ECF6\",\"polar\":{\"angularaxis\":{\"gridcolor\":\"white\",\"linecolor\":\"white\",\"ticks\":\"\"},\"bgcolor\":\"#E5ECF6\",\"radialaxis\":{\"gridcolor\":\"white\",\"linecolor\":\"white\",\"ticks\":\"\"}},\"scene\":{\"xaxis\":{\"backgroundcolor\":\"#E5ECF6\",\"gridcolor\":\"white\",\"gridwidth\":2,\"linecolor\":\"white\",\"showbackground\":true,\"ticks\":\"\",\"zerolinecolor\":\"white\"},\"yaxis\":{\"backgroundcolor\":\"#E5ECF6\",\"gridcolor\":\"white\",\"gridwidth\":2,\"linecolor\":\"white\",\"showbackground\":true,\"ticks\":\"\",\"zerolinecolor\":\"white\"},\"zaxis\":{\"backgroundcolor\":\"#E5ECF6\",\"gridcolor\":\"white\",\"gridwidth\":2,\"linecolor\":\"white\",\"showbackground\":true,\"ticks\":\"\",\"zerolinecolor\":\"white\"}},\"shapedefaults\":{\"line\":{\"color\":\"#2a3f5f\"}},\"ternary\":{\"aaxis\":{\"gridcolor\":\"white\",\"linecolor\":\"white\",\"ticks\":\"\"},\"baxis\":{\"gridcolor\":\"white\",\"linecolor\":\"white\",\"ticks\":\"\"},\"bgcolor\":\"#E5ECF6\",\"caxis\":{\"gridcolor\":\"white\",\"linecolor\":\"white\",\"ticks\":\"\"}},\"title\":{\"x\":0.05},\"xaxis\":{\"automargin\":true,\"gridcolor\":\"white\",\"linecolor\":\"white\",\"ticks\":\"\",\"title\":{\"standoff\":15},\"zerolinecolor\":\"white\",\"zerolinewidth\":2},\"yaxis\":{\"automargin\":true,\"gridcolor\":\"white\",\"linecolor\":\"white\",\"ticks\":\"\",\"title\":{\"standoff\":15},\"zerolinecolor\":\"white\",\"zerolinewidth\":2}}},\"geo\":{\"center\":{\"lat\":57.22947380712531,\"lon\":-3.755092620393134},\"projection\":{\"type\":\"albers\",\"scale\":6},\"scope\":\"europe\",\"showland\":true,\"landcolor\":\"rgb(250, 250, 250)\",\"subunitcolor\":\"Blue\",\"countrycolor\":\"Black\",\"countrywidth\":0.5,\"subunitwidth\":0.5,\"visible\":false,\"resolution\":110,\"showcountries\":true,\"showsubunits\":true},\"title\":{\"text\":\"Bird Sightings 1970s<br>(Hover for latitude/longitude)\"},\"autosize\":true,\"height\":600},                        {\"responsive\": true}                    ).then(function(){\n",
       "                            \n",
       "var gd = document.getElementById('02d0910e-3ab1-4714-b972-2997a9610a0f');\n",
       "var x = new MutationObserver(function (mutations, observer) {{\n",
       "        var display = window.getComputedStyle(gd).display;\n",
       "        if (!display || display === 'none') {{\n",
       "            console.log([gd, 'removed!']);\n",
       "            Plotly.purge(gd);\n",
       "            observer.disconnect();\n",
       "        }}\n",
       "}});\n",
       "\n",
       "// Listen for the removal of the full notebook cells\n",
       "var notebookContainer = gd.closest('#notebook-container');\n",
       "if (notebookContainer) {{\n",
       "    x.observe(notebookContainer, {childList: true});\n",
       "}}\n",
       "\n",
       "// Listen for the clearing of the current output cell\n",
       "var outputEl = gd.closest('.output');\n",
       "if (outputEl) {{\n",
       "    x.observe(outputEl, {childList: true});\n",
       "}}\n",
       "\n",
       "                        })                };                });            </script>        </div>"
      ]
     },
     "metadata": {},
     "output_type": "display_data"
    }
   ],
   "source": [
    "#mapping the latitude/longitude of birds for given decade\n",
    "import plotly.graph_objects as go\n",
    "\n",
    "#df = pd.read_csv('https://raw.githubusercontent.com/plotly/datasets/master/2011_february_us_airport_traffic.csv')\n",
    "#df['text'] = df['airport'] + '' + df['city'] + ', ' + df['state'] + '' + 'Arrivals: ' + df['cnt'].astype(str)\n",
    "\n",
    "fig = go.Figure(data=go.Scattergeo(\n",
    "        #locationmode = 'GB', #guessing!\n",
    "        lon = birds_70s['decimalLongitude'],\n",
    "        lat = birds_70s['decimalLatitude'],\n",
    "        #text = bird_data['text'],\n",
    "        mode = 'markers',\n",
    "        marker = dict(\n",
    "            size = 8,\n",
    "            opacity = 0.8,\n",
    "            reversescale = True,\n",
    "            autocolorscale = False,\n",
    "            symbol = 'square',\n",
    "            line = dict(\n",
    "                width=1,\n",
    "                color='rgba(102, 102, 102)'\n",
    "            ),\n",
    "            colorscale = 'Blues',\n",
    "            cmin = 0,\n",
    "            #color = bird_data['cnt'],\n",
    "            #cmax = bird_data['cnt'].max(),\n",
    "            #colorbar_title=\"Incoming flights<br>February 2011\"\n",
    "        )))\n",
    "\n",
    "fig.update_layout(\n",
    "    title = 'Bird Sightings 1970s<br>(Hover for latitude/longitude)',\n",
    "    autosize=True,\n",
    "    height=600, \n",
    "    geo = dict(\n",
    "        center = dict(\n",
    "            lat = bird_data['decimalLatitude'].mean(),\n",
    "            lon = bird_data['decimalLongitude'].mean(),\n",
    "        ),\n",
    "        scope='europe',\n",
    "        projection_type='albers',\n",
    "        projection_scale=6,\n",
    "        showland = True,\n",
    "        landcolor = \"rgb(250, 250, 250)\",\n",
    "        subunitcolor = \"rgb(217, 217, 217)\",\n",
    "        countrycolor = \"rgb(217, 217, 217)\",\n",
    "        countrywidth = 0.5,\n",
    "        subunitwidth = 0.5\n",
    "        ),\n",
    "    )\n",
    "fig.update_geos(\n",
    "    visible=False, resolution=110, scope=\"europe\",\n",
    "    showcountries=True, countrycolor=\"Black\",\n",
    "    showsubunits=True, subunitcolor=\"Blue\"\n",
    ")\n",
    "fig.show()"
   ]
  },
  {
   "cell_type": "markdown",
   "id": "d35a15da",
   "metadata": {},
   "source": [
    "Next step: \n",
    "- get [better] mapping!\n",
    "- some plot to view distribution by season?"
   ]
  }
 ],
 "metadata": {
  "kernelspec": {
   "display_name": "Python 3 (ipykernel)",
   "language": "python",
   "name": "python3"
  },
  "language_info": {
   "codemirror_mode": {
    "name": "ipython",
    "version": 3
   },
   "file_extension": ".py",
   "mimetype": "text/x-python",
   "name": "python",
   "nbconvert_exporter": "python",
   "pygments_lexer": "ipython3",
   "version": "3.9.12"
  }
 },
 "nbformat": 4,
 "nbformat_minor": 5
}
